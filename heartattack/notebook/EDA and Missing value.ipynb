{
 "cells": [
  {
   "cell_type": "code",
   "execution_count": 58,
   "metadata": {},
   "outputs": [],
   "source": [
    "import pandas as pd\n",
    "import os\n",
    "from sklearn.model_selection import train_test_split\n",
    "import json"
   ]
  },
  {
   "cell_type": "code",
   "execution_count": 59,
   "metadata": {},
   "outputs": [],
   "source": [
    "raw_data_path = os.path.join(os.path.pardir,\"data\",\"raw\", \"heart_failure_clinical_records_dataset.csv\")\n",
    "processed_data_path = os.path.join(os.path.pardir,\"data\",\"processed\", \"processed.csv\")\n",
    "numeric_imputed_json_path = os.path.join(os.path.pardir,\"static_data\",\"numeric_imputed_values.json\")\n",
    "categorical_imputed_json_path = os.path.join(os.path.pardir,\"static_data\",\"categorical_imputed_values.json\")\n",
    "#train_data_path = os.path.join(os.path.pardir,\"data\",\"raw\", \"train.csv\")\n",
    "#test_data_path = os.path.join(os.path.pardir,\"data\",\"raw\", \"test.csv\")"
   ]
  },
  {
   "cell_type": "code",
   "execution_count": 60,
   "metadata": {},
   "outputs": [],
   "source": [
    "df = pd.read_csv(raw_data_path)"
   ]
  },
  {
   "cell_type": "code",
   "execution_count": 61,
   "metadata": {},
   "outputs": [
    {
     "name": "stdout",
     "output_type": "stream",
     "text": [
      "<class 'pandas.core.frame.DataFrame'>\n",
      "RangeIndex: 300 entries, 0 to 299\n",
      "Data columns (total 13 columns):\n",
      "age                         300 non-null float64\n",
      "anaemia                     300 non-null int64\n",
      "creatinine_phosphokinase    299 non-null float64\n",
      "diabetes                    300 non-null int64\n",
      "ejection_fraction           299 non-null float64\n",
      "high_blood_pressure         300 non-null int64\n",
      "platelets                   300 non-null float64\n",
      "serum_creatinine            300 non-null float64\n",
      "serum_sodium                300 non-null int64\n",
      "sex                         300 non-null int64\n",
      "smoking                     300 non-null int64\n",
      "time                        300 non-null int64\n",
      "DEATH_EVENT                 300 non-null int64\n",
      "dtypes: float64(5), int64(8)\n",
      "memory usage: 30.5 KB\n"
     ]
    }
   ],
   "source": [
    "df.info()"
   ]
  },
  {
   "cell_type": "code",
   "execution_count": 5,
   "metadata": {},
   "outputs": [],
   "source": [
    "X = df.iloc[:,:-1]"
   ]
  },
  {
   "cell_type": "code",
   "execution_count": 6,
   "metadata": {},
   "outputs": [],
   "source": [
    "y = df.iloc[:,-1:]"
   ]
  },
  {
   "cell_type": "code",
   "execution_count": 7,
   "metadata": {},
   "outputs": [],
   "source": [
    "X_train, X_test, y_train, y_test = train_test_split(X,y,test_size=0.2)"
   ]
  },
  {
   "cell_type": "code",
   "execution_count": 8,
   "metadata": {},
   "outputs": [
    {
     "data": {
      "text/plain": [
       "(299, 13)"
      ]
     },
     "execution_count": 8,
     "metadata": {},
     "output_type": "execute_result"
    }
   ],
   "source": [
    "df.shape"
   ]
  },
  {
   "cell_type": "code",
   "execution_count": 9,
   "metadata": {},
   "outputs": [
    {
     "data": {
      "text/html": [
       "<div>\n",
       "<style scoped>\n",
       "    .dataframe tbody tr th:only-of-type {\n",
       "        vertical-align: middle;\n",
       "    }\n",
       "\n",
       "    .dataframe tbody tr th {\n",
       "        vertical-align: top;\n",
       "    }\n",
       "\n",
       "    .dataframe thead th {\n",
       "        text-align: right;\n",
       "    }\n",
       "</style>\n",
       "<table border=\"1\" class=\"dataframe\">\n",
       "  <thead>\n",
       "    <tr style=\"text-align: right;\">\n",
       "      <th></th>\n",
       "      <th>age</th>\n",
       "      <th>anaemia</th>\n",
       "      <th>creatinine_phosphokinase</th>\n",
       "      <th>diabetes</th>\n",
       "      <th>ejection_fraction</th>\n",
       "      <th>high_blood_pressure</th>\n",
       "      <th>platelets</th>\n",
       "      <th>serum_creatinine</th>\n",
       "      <th>serum_sodium</th>\n",
       "      <th>sex</th>\n",
       "      <th>smoking</th>\n",
       "      <th>time</th>\n",
       "      <th>DEATH_EVENT</th>\n",
       "    </tr>\n",
       "  </thead>\n",
       "  <tbody>\n",
       "    <tr>\n",
       "      <th>count</th>\n",
       "      <td>299.000000</td>\n",
       "      <td>299.000000</td>\n",
       "      <td>299.000000</td>\n",
       "      <td>299.000000</td>\n",
       "      <td>299.000000</td>\n",
       "      <td>299.000000</td>\n",
       "      <td>299.000000</td>\n",
       "      <td>299.00000</td>\n",
       "      <td>299.000000</td>\n",
       "      <td>299.000000</td>\n",
       "      <td>299.00000</td>\n",
       "      <td>299.000000</td>\n",
       "      <td>299.00000</td>\n",
       "    </tr>\n",
       "    <tr>\n",
       "      <th>mean</th>\n",
       "      <td>60.833893</td>\n",
       "      <td>0.431438</td>\n",
       "      <td>581.839465</td>\n",
       "      <td>0.418060</td>\n",
       "      <td>38.083612</td>\n",
       "      <td>0.351171</td>\n",
       "      <td>263358.029264</td>\n",
       "      <td>1.39388</td>\n",
       "      <td>136.625418</td>\n",
       "      <td>0.648829</td>\n",
       "      <td>0.32107</td>\n",
       "      <td>130.260870</td>\n",
       "      <td>0.32107</td>\n",
       "    </tr>\n",
       "    <tr>\n",
       "      <th>std</th>\n",
       "      <td>11.894809</td>\n",
       "      <td>0.496107</td>\n",
       "      <td>970.287881</td>\n",
       "      <td>0.494067</td>\n",
       "      <td>11.834841</td>\n",
       "      <td>0.478136</td>\n",
       "      <td>97804.236869</td>\n",
       "      <td>1.03451</td>\n",
       "      <td>4.412477</td>\n",
       "      <td>0.478136</td>\n",
       "      <td>0.46767</td>\n",
       "      <td>77.614208</td>\n",
       "      <td>0.46767</td>\n",
       "    </tr>\n",
       "    <tr>\n",
       "      <th>min</th>\n",
       "      <td>40.000000</td>\n",
       "      <td>0.000000</td>\n",
       "      <td>23.000000</td>\n",
       "      <td>0.000000</td>\n",
       "      <td>14.000000</td>\n",
       "      <td>0.000000</td>\n",
       "      <td>25100.000000</td>\n",
       "      <td>0.50000</td>\n",
       "      <td>113.000000</td>\n",
       "      <td>0.000000</td>\n",
       "      <td>0.00000</td>\n",
       "      <td>4.000000</td>\n",
       "      <td>0.00000</td>\n",
       "    </tr>\n",
       "    <tr>\n",
       "      <th>25%</th>\n",
       "      <td>51.000000</td>\n",
       "      <td>0.000000</td>\n",
       "      <td>116.500000</td>\n",
       "      <td>0.000000</td>\n",
       "      <td>30.000000</td>\n",
       "      <td>0.000000</td>\n",
       "      <td>212500.000000</td>\n",
       "      <td>0.90000</td>\n",
       "      <td>134.000000</td>\n",
       "      <td>0.000000</td>\n",
       "      <td>0.00000</td>\n",
       "      <td>73.000000</td>\n",
       "      <td>0.00000</td>\n",
       "    </tr>\n",
       "    <tr>\n",
       "      <th>50%</th>\n",
       "      <td>60.000000</td>\n",
       "      <td>0.000000</td>\n",
       "      <td>250.000000</td>\n",
       "      <td>0.000000</td>\n",
       "      <td>38.000000</td>\n",
       "      <td>0.000000</td>\n",
       "      <td>262000.000000</td>\n",
       "      <td>1.10000</td>\n",
       "      <td>137.000000</td>\n",
       "      <td>1.000000</td>\n",
       "      <td>0.00000</td>\n",
       "      <td>115.000000</td>\n",
       "      <td>0.00000</td>\n",
       "    </tr>\n",
       "    <tr>\n",
       "      <th>75%</th>\n",
       "      <td>70.000000</td>\n",
       "      <td>1.000000</td>\n",
       "      <td>582.000000</td>\n",
       "      <td>1.000000</td>\n",
       "      <td>45.000000</td>\n",
       "      <td>1.000000</td>\n",
       "      <td>303500.000000</td>\n",
       "      <td>1.40000</td>\n",
       "      <td>140.000000</td>\n",
       "      <td>1.000000</td>\n",
       "      <td>1.00000</td>\n",
       "      <td>203.000000</td>\n",
       "      <td>1.00000</td>\n",
       "    </tr>\n",
       "    <tr>\n",
       "      <th>max</th>\n",
       "      <td>95.000000</td>\n",
       "      <td>1.000000</td>\n",
       "      <td>7861.000000</td>\n",
       "      <td>1.000000</td>\n",
       "      <td>80.000000</td>\n",
       "      <td>1.000000</td>\n",
       "      <td>850000.000000</td>\n",
       "      <td>9.40000</td>\n",
       "      <td>148.000000</td>\n",
       "      <td>1.000000</td>\n",
       "      <td>1.00000</td>\n",
       "      <td>285.000000</td>\n",
       "      <td>1.00000</td>\n",
       "    </tr>\n",
       "  </tbody>\n",
       "</table>\n",
       "</div>"
      ],
      "text/plain": [
       "              age     anaemia  creatinine_phosphokinase    diabetes  \\\n",
       "count  299.000000  299.000000                299.000000  299.000000   \n",
       "mean    60.833893    0.431438                581.839465    0.418060   \n",
       "std     11.894809    0.496107                970.287881    0.494067   \n",
       "min     40.000000    0.000000                 23.000000    0.000000   \n",
       "25%     51.000000    0.000000                116.500000    0.000000   \n",
       "50%     60.000000    0.000000                250.000000    0.000000   \n",
       "75%     70.000000    1.000000                582.000000    1.000000   \n",
       "max     95.000000    1.000000               7861.000000    1.000000   \n",
       "\n",
       "       ejection_fraction  high_blood_pressure      platelets  \\\n",
       "count         299.000000           299.000000     299.000000   \n",
       "mean           38.083612             0.351171  263358.029264   \n",
       "std            11.834841             0.478136   97804.236869   \n",
       "min            14.000000             0.000000   25100.000000   \n",
       "25%            30.000000             0.000000  212500.000000   \n",
       "50%            38.000000             0.000000  262000.000000   \n",
       "75%            45.000000             1.000000  303500.000000   \n",
       "max            80.000000             1.000000  850000.000000   \n",
       "\n",
       "       serum_creatinine  serum_sodium         sex    smoking        time  \\\n",
       "count         299.00000    299.000000  299.000000  299.00000  299.000000   \n",
       "mean            1.39388    136.625418    0.648829    0.32107  130.260870   \n",
       "std             1.03451      4.412477    0.478136    0.46767   77.614208   \n",
       "min             0.50000    113.000000    0.000000    0.00000    4.000000   \n",
       "25%             0.90000    134.000000    0.000000    0.00000   73.000000   \n",
       "50%             1.10000    137.000000    1.000000    0.00000  115.000000   \n",
       "75%             1.40000    140.000000    1.000000    1.00000  203.000000   \n",
       "max             9.40000    148.000000    1.000000    1.00000  285.000000   \n",
       "\n",
       "       DEATH_EVENT  \n",
       "count    299.00000  \n",
       "mean       0.32107  \n",
       "std        0.46767  \n",
       "min        0.00000  \n",
       "25%        0.00000  \n",
       "50%        0.00000  \n",
       "75%        1.00000  \n",
       "max        1.00000  "
      ]
     },
     "execution_count": 9,
     "metadata": {},
     "output_type": "execute_result"
    }
   ],
   "source": [
    "df.describe()"
   ]
  },
  {
   "cell_type": "code",
   "execution_count": 34,
   "metadata": {},
   "outputs": [
    {
     "data": {
      "text/html": [
       "<div>\n",
       "<style scoped>\n",
       "    .dataframe tbody tr th:only-of-type {\n",
       "        vertical-align: middle;\n",
       "    }\n",
       "\n",
       "    .dataframe tbody tr th {\n",
       "        vertical-align: top;\n",
       "    }\n",
       "\n",
       "    .dataframe thead th {\n",
       "        text-align: right;\n",
       "    }\n",
       "</style>\n",
       "<table border=\"1\" class=\"dataframe\">\n",
       "  <thead>\n",
       "    <tr style=\"text-align: right;\">\n",
       "      <th></th>\n",
       "      <th>age</th>\n",
       "      <th>anaemia</th>\n",
       "      <th>creatinine_phosphokinase</th>\n",
       "      <th>diabetes</th>\n",
       "      <th>ejection_fraction</th>\n",
       "      <th>high_blood_pressure</th>\n",
       "      <th>platelets</th>\n",
       "      <th>serum_creatinine</th>\n",
       "      <th>serum_sodium</th>\n",
       "      <th>sex</th>\n",
       "      <th>smoking</th>\n",
       "      <th>time</th>\n",
       "      <th>DEATH_EVENT</th>\n",
       "    </tr>\n",
       "  </thead>\n",
       "  <tbody>\n",
       "    <tr>\n",
       "      <th>0</th>\n",
       "      <td>75.0</td>\n",
       "      <td>0</td>\n",
       "      <td>582</td>\n",
       "      <td>0</td>\n",
       "      <td>20</td>\n",
       "      <td>1</td>\n",
       "      <td>265000.00</td>\n",
       "      <td>1.9</td>\n",
       "      <td>130</td>\n",
       "      <td>1</td>\n",
       "      <td>0</td>\n",
       "      <td>4</td>\n",
       "      <td>1</td>\n",
       "    </tr>\n",
       "    <tr>\n",
       "      <th>1</th>\n",
       "      <td>55.0</td>\n",
       "      <td>0</td>\n",
       "      <td>7861</td>\n",
       "      <td>0</td>\n",
       "      <td>38</td>\n",
       "      <td>0</td>\n",
       "      <td>263358.03</td>\n",
       "      <td>1.1</td>\n",
       "      <td>136</td>\n",
       "      <td>1</td>\n",
       "      <td>0</td>\n",
       "      <td>6</td>\n",
       "      <td>1</td>\n",
       "    </tr>\n",
       "    <tr>\n",
       "      <th>2</th>\n",
       "      <td>65.0</td>\n",
       "      <td>0</td>\n",
       "      <td>146</td>\n",
       "      <td>0</td>\n",
       "      <td>20</td>\n",
       "      <td>0</td>\n",
       "      <td>162000.00</td>\n",
       "      <td>1.3</td>\n",
       "      <td>129</td>\n",
       "      <td>1</td>\n",
       "      <td>1</td>\n",
       "      <td>7</td>\n",
       "      <td>1</td>\n",
       "    </tr>\n",
       "    <tr>\n",
       "      <th>3</th>\n",
       "      <td>50.0</td>\n",
       "      <td>1</td>\n",
       "      <td>111</td>\n",
       "      <td>0</td>\n",
       "      <td>20</td>\n",
       "      <td>0</td>\n",
       "      <td>210000.00</td>\n",
       "      <td>1.9</td>\n",
       "      <td>137</td>\n",
       "      <td>1</td>\n",
       "      <td>0</td>\n",
       "      <td>7</td>\n",
       "      <td>1</td>\n",
       "    </tr>\n",
       "    <tr>\n",
       "      <th>4</th>\n",
       "      <td>65.0</td>\n",
       "      <td>1</td>\n",
       "      <td>160</td>\n",
       "      <td>1</td>\n",
       "      <td>20</td>\n",
       "      <td>0</td>\n",
       "      <td>327000.00</td>\n",
       "      <td>2.7</td>\n",
       "      <td>116</td>\n",
       "      <td>0</td>\n",
       "      <td>0</td>\n",
       "      <td>8</td>\n",
       "      <td>1</td>\n",
       "    </tr>\n",
       "  </tbody>\n",
       "</table>\n",
       "</div>"
      ],
      "text/plain": [
       "    age  anaemia  creatinine_phosphokinase  diabetes  ejection_fraction  \\\n",
       "0  75.0        0                       582         0                 20   \n",
       "1  55.0        0                      7861         0                 38   \n",
       "2  65.0        0                       146         0                 20   \n",
       "3  50.0        1                       111         0                 20   \n",
       "4  65.0        1                       160         1                 20   \n",
       "\n",
       "   high_blood_pressure  platelets  serum_creatinine  serum_sodium  sex  \\\n",
       "0                    1  265000.00               1.9           130    1   \n",
       "1                    0  263358.03               1.1           136    1   \n",
       "2                    0  162000.00               1.3           129    1   \n",
       "3                    0  210000.00               1.9           137    1   \n",
       "4                    0  327000.00               2.7           116    0   \n",
       "\n",
       "   smoking  time  DEATH_EVENT  \n",
       "0        0     4            1  \n",
       "1        0     6            1  \n",
       "2        1     7            1  \n",
       "3        0     7            1  \n",
       "4        0     8            1  "
      ]
     },
     "execution_count": 34,
     "metadata": {},
     "output_type": "execute_result"
    }
   ],
   "source": [
    "df.head()"
   ]
  },
  {
   "cell_type": "code",
   "execution_count": 91,
   "metadata": {},
   "outputs": [],
   "source": [
    "%matplotlib inline"
   ]
  },
  {
   "cell_type": "code",
   "execution_count": 92,
   "metadata": {},
   "outputs": [
    {
     "data": {
      "text/plain": [
       "Index(['age', 'anaemia', 'creatinine_phosphokinase', 'diabetes',\n",
       "       'ejection_fraction', 'high_blood_pressure', 'platelets',\n",
       "       'serum_creatinine', 'serum_sodium', 'sex', 'smoking', 'time',\n",
       "       'DEATH_EVENT'],\n",
       "      dtype='object')"
      ]
     },
     "execution_count": 92,
     "metadata": {},
     "output_type": "execute_result"
    }
   ],
   "source": [
    "#data columns\n",
    "df.columns"
   ]
  },
  {
   "cell_type": "code",
   "execution_count": 42,
   "metadata": {},
   "outputs": [
    {
     "name": "stdout",
     "output_type": "stream",
     "text": [
      "Index(['age', 'anaemia', 'creatinine_phosphokinase', 'diabetes',\n",
      "       'ejection_fraction', 'high_blood_pressure', 'platelets',\n",
      "       'serum_creatinine', 'serum_sodium', 'sex', 'smoking', 'time'],\n",
      "      dtype='object')\n",
      "DEATH_EVENT\n"
     ]
    }
   ],
   "source": [
    "#separating feature and target\n",
    "model_features = df.columns.drop('DEATH_EVENT')\n",
    "model_target = 'DEATH_EVENT'\n",
    "\n",
    "print(model_features)\n",
    "print(model_target)"
   ]
  },
  {
   "cell_type": "code",
   "execution_count": 94,
   "metadata": {},
   "outputs": [],
   "source": [
    "#convert Categorical value to 'Y' and 'N' from 0 and 1\n",
    "#df['anaemia'] = df['anaemia'].apply(lambda x: 'Y' if x == 1 else 'N')    \n",
    "#df['diabetes'] = df['diabetes'].apply(lambda x: 'Y' if x == 1 else 'N')\n",
    "#df['high_blood_pressure'] = df['high_blood_pressure'].apply(lambda x: 'Y' if x == 1 else 'N')  \n",
    "#df['smoking'] = df['smoking'].apply(lambda x: 'Y' if x == 1 else 'N') \n",
    "#df['sex'] = df['sex'].apply(lambda x: 'male' if x == 1 else 'female')"
   ]
  },
  {
   "cell_type": "code",
   "execution_count": 51,
   "metadata": {},
   "outputs": [
    {
     "data": {
      "text/html": [
       "<div>\n",
       "<style scoped>\n",
       "    .dataframe tbody tr th:only-of-type {\n",
       "        vertical-align: middle;\n",
       "    }\n",
       "\n",
       "    .dataframe tbody tr th {\n",
       "        vertical-align: top;\n",
       "    }\n",
       "\n",
       "    .dataframe thead th {\n",
       "        text-align: right;\n",
       "    }\n",
       "</style>\n",
       "<table border=\"1\" class=\"dataframe\">\n",
       "  <thead>\n",
       "    <tr style=\"text-align: right;\">\n",
       "      <th></th>\n",
       "      <th>age</th>\n",
       "      <th>anaemia</th>\n",
       "      <th>creatinine_phosphokinase</th>\n",
       "      <th>diabetes</th>\n",
       "      <th>ejection_fraction</th>\n",
       "      <th>high_blood_pressure</th>\n",
       "      <th>platelets</th>\n",
       "      <th>serum_creatinine</th>\n",
       "      <th>serum_sodium</th>\n",
       "      <th>sex</th>\n",
       "      <th>smoking</th>\n",
       "      <th>time</th>\n",
       "      <th>DEATH_EVENT</th>\n",
       "    </tr>\n",
       "  </thead>\n",
       "  <tbody>\n",
       "    <tr>\n",
       "      <th>0</th>\n",
       "      <td>75.0</td>\n",
       "      <td>0</td>\n",
       "      <td>582</td>\n",
       "      <td>0</td>\n",
       "      <td>20</td>\n",
       "      <td>1</td>\n",
       "      <td>265000.00</td>\n",
       "      <td>1.9</td>\n",
       "      <td>130</td>\n",
       "      <td>1</td>\n",
       "      <td>0</td>\n",
       "      <td>4</td>\n",
       "      <td>1</td>\n",
       "    </tr>\n",
       "    <tr>\n",
       "      <th>1</th>\n",
       "      <td>55.0</td>\n",
       "      <td>0</td>\n",
       "      <td>7861</td>\n",
       "      <td>0</td>\n",
       "      <td>38</td>\n",
       "      <td>0</td>\n",
       "      <td>263358.03</td>\n",
       "      <td>1.1</td>\n",
       "      <td>136</td>\n",
       "      <td>1</td>\n",
       "      <td>0</td>\n",
       "      <td>6</td>\n",
       "      <td>1</td>\n",
       "    </tr>\n",
       "    <tr>\n",
       "      <th>2</th>\n",
       "      <td>65.0</td>\n",
       "      <td>0</td>\n",
       "      <td>146</td>\n",
       "      <td>0</td>\n",
       "      <td>20</td>\n",
       "      <td>0</td>\n",
       "      <td>162000.00</td>\n",
       "      <td>1.3</td>\n",
       "      <td>129</td>\n",
       "      <td>1</td>\n",
       "      <td>1</td>\n",
       "      <td>7</td>\n",
       "      <td>1</td>\n",
       "    </tr>\n",
       "    <tr>\n",
       "      <th>3</th>\n",
       "      <td>50.0</td>\n",
       "      <td>1</td>\n",
       "      <td>111</td>\n",
       "      <td>0</td>\n",
       "      <td>20</td>\n",
       "      <td>0</td>\n",
       "      <td>210000.00</td>\n",
       "      <td>1.9</td>\n",
       "      <td>137</td>\n",
       "      <td>1</td>\n",
       "      <td>0</td>\n",
       "      <td>7</td>\n",
       "      <td>1</td>\n",
       "    </tr>\n",
       "    <tr>\n",
       "      <th>4</th>\n",
       "      <td>65.0</td>\n",
       "      <td>1</td>\n",
       "      <td>160</td>\n",
       "      <td>1</td>\n",
       "      <td>20</td>\n",
       "      <td>0</td>\n",
       "      <td>327000.00</td>\n",
       "      <td>2.7</td>\n",
       "      <td>116</td>\n",
       "      <td>0</td>\n",
       "      <td>0</td>\n",
       "      <td>8</td>\n",
       "      <td>1</td>\n",
       "    </tr>\n",
       "  </tbody>\n",
       "</table>\n",
       "</div>"
      ],
      "text/plain": [
       "    age  anaemia  creatinine_phosphokinase  diabetes  ejection_fraction  \\\n",
       "0  75.0        0                       582         0                 20   \n",
       "1  55.0        0                      7861         0                 38   \n",
       "2  65.0        0                       146         0                 20   \n",
       "3  50.0        1                       111         0                 20   \n",
       "4  65.0        1                       160         1                 20   \n",
       "\n",
       "   high_blood_pressure  platelets  serum_creatinine  serum_sodium  sex  \\\n",
       "0                    1  265000.00               1.9           130    1   \n",
       "1                    0  263358.03               1.1           136    1   \n",
       "2                    0  162000.00               1.3           129    1   \n",
       "3                    0  210000.00               1.9           137    1   \n",
       "4                    0  327000.00               2.7           116    0   \n",
       "\n",
       "   smoking  time  DEATH_EVENT  \n",
       "0        0     4            1  \n",
       "1        0     6            1  \n",
       "2        1     7            1  \n",
       "3        0     7            1  \n",
       "4        0     8            1  "
      ]
     },
     "execution_count": 51,
     "metadata": {},
     "output_type": "execute_result"
    }
   ],
   "source": [
    "df.head()"
   ]
  },
  {
   "cell_type": "code",
   "execution_count": 43,
   "metadata": {},
   "outputs": [
    {
     "name": "stdout",
     "output_type": "stream",
     "text": [
      "Numerical colums Index(['age', 'anaemia', 'creatinine_phosphokinase', 'diabetes',\n",
      "       'ejection_fraction', 'high_blood_pressure', 'platelets',\n",
      "       'serum_creatinine', 'serum_sodium', 'sex', 'smoking', 'time'],\n",
      "      dtype='object')\n",
      "Categorical features Index([], dtype='object')\n"
     ]
    }
   ],
   "source": [
    "import numpy as np\n",
    "\n",
    "numerical_features_all = df[model_features].select_dtypes(include=np.number).columns\n",
    "print(\"Numerical colums\", numerical_features_all)\n",
    "\n",
    "categorical_features_all = df[model_features].select_dtypes(include='object').columns\n",
    "print(\"Categorical features\",categorical_features_all)"
   ]
  },
  {
   "cell_type": "code",
   "execution_count": 17,
   "metadata": {},
   "outputs": [],
   "source": [
    "#Plots"
   ]
  },
  {
   "cell_type": "code",
   "execution_count": 10,
   "metadata": {},
   "outputs": [
    {
     "data": {
      "text/plain": [
       "<matplotlib.axes._subplots.AxesSubplot at 0x1e566beaf60>"
      ]
     },
     "execution_count": 10,
     "metadata": {},
     "output_type": "execute_result"
    },
    {
     "data": {
      "image/png": "[encoded data removed]",
      "text/plain": [
       "<Figure size 432x288 with 1 Axes>"
      ]
     },
     "metadata": {},
     "output_type": "display_data"
    }
   ],
   "source": [
    "%matplotlib inline\n",
    "df[model_target].value_counts().plot(kind='bar')"
   ]
  },
  {
   "cell_type": "code",
   "execution_count": 19,
   "metadata": {},
   "outputs": [
    {
     "name": "stdout",
     "output_type": "stream",
     "text": [
      "N    170\n",
      "Y    129\n",
      "Name: anaemia, dtype: int64\n",
      "N    174\n",
      "Y    125\n",
      "Name: diabetes, dtype: int64\n",
      "N    194\n",
      "Y    105\n",
      "Name: high_blood_pressure, dtype: int64\n",
      "male      194\n",
      "female    105\n",
      "Name: sex, dtype: int64\n",
      "N    203\n",
      "Y     96\n",
      "Name: smoking, dtype: int64\n"
     ]
    }
   ],
   "source": [
    "#show all unique categories for categorical features\n",
    "for c in categorical_features_all:\n",
    "    print(df[c].value_counts())"
   ]
  },
  {
   "cell_type": "code",
   "execution_count": 12,
   "metadata": {},
   "outputs": [],
   "source": [
    "import matplotlib.pyplot as plt\n",
    "%matplotlib inline\n",
    "#show all unique categories for categorical features\n",
    "for c in categorical_features_all:\n",
    "    df[c].value_counts().plot.bar()\n",
    "    print(\"Feature\",c)\n",
    "    plt.show()"
   ]
  },
  {
   "cell_type": "code",
   "execution_count": 11,
   "metadata": {},
   "outputs": [
    {
     "data": {
      "text/plain": [
       "<matplotlib.axes._subplots.AxesSubplot at 0x2006b459a90>"
      ]
     },
     "execution_count": 11,
     "metadata": {},
     "output_type": "execute_result"
    },
    {
     "data": {
      "image/png": "[encoded data removed]",
      "text/plain": [
       "<Figure size 432x288 with 1 Axes>"
      ]
     },
     "metadata": {},
     "output_type": "display_data"
    }
   ],
   "source": [
    "df[df.DEATH_EVENT == 1].age.plot(kind='hist',bins=10)"
   ]
  },
  {
   "cell_type": "markdown",
   "metadata": {},
   "source": [
    "# plot all numerical features\n",
    "import matplotlib.pyplot as plt\n",
    "%matplotlib inline\n",
    "\n",
    "\n",
    "for c in numerical_features_all:\n",
    "    df[c].plot.hist(bins=20)\n",
    "    print(\"Feature: \", c)\n",
    "    plt.show()"
   ]
  },
  {
   "cell_type": "code",
   "execution_count": 23,
   "metadata": {},
   "outputs": [
    {
     "name": "stdout",
     "output_type": "stream",
     "text": [
      "Box plot for  age\n"
     ]
    },
    {
     "data": {
      "image/png": "[encoded data removed]",
      "text/plain": [
       "<Figure size 432x288 with 1 Axes>"
      ]
     },
     "metadata": {},
     "output_type": "display_data"
    },
    {
     "name": "stdout",
     "output_type": "stream",
     "text": [
      "Box plot for  creatinine_phosphokinase\n"
     ]
    },
    {
     "data": {
      "image/png": "[encoded data removed]",
      "text/plain": [
       "<Figure size 432x288 with 1 Axes>"
      ]
     },
     "metadata": {},
     "output_type": "display_data"
    },
    {
     "name": "stdout",
     "output_type": "stream",
     "text": [
      "Box plot for  ejection_fraction\n"
     ]
    },
    {
     "data": {
      "image/png": "[encoded data removed]",
      "text/plain": [
       "<Figure size 432x288 with 1 Axes>"
      ]
     },
     "metadata": {},
     "output_type": "display_data"
    },
    {
     "name": "stdout",
     "output_type": "stream",
     "text": [
      "Box plot for  platelets\n"
     ]
    },
    {
     "data": {
      "image/png": "[encoded data removed]",
      "text/plain": [
       "<Figure size 432x288 with 1 Axes>"
      ]
     },
     "metadata": {},
     "output_type": "display_data"
    },
    {
     "name": "stdout",
     "output_type": "stream",
     "text": [
      "Box plot for  serum_creatinine\n"
     ]
    },
    {
     "data": {
      "image/png": "[encoded data removed]",
      "text/plain": [
       "<Figure size 432x288 with 1 Axes>"
      ]
     },
     "metadata": {},
     "output_type": "display_data"
    },
    {
     "name": "stdout",
     "output_type": "stream",
     "text": [
      "Box plot for  serum_sodium\n"
     ]
    },
    {
     "data": {
      "image/png": "[encoded data removed]",
      "text/plain": [
       "<Figure size 432x288 with 1 Axes>"
      ]
     },
     "metadata": {},
     "output_type": "display_data"
    },
    {
     "name": "stdout",
     "output_type": "stream",
     "text": [
      "Box plot for  time\n"
     ]
    },
    {
     "data": {
      "image/png": "[encoded data removed]",
      "text/plain": [
       "<Figure size 432x288 with 1 Axes>"
      ]
     },
     "metadata": {},
     "output_type": "display_data"
    }
   ],
   "source": [
    "#Detect outliers in model numerical features\n",
    "for c in numerical_features_all:\n",
    "    df[c].plot.box()\n",
    "    print(\"Box plot for \",c)\n",
    "    plt.show()"
   ]
  },
  {
   "cell_type": "code",
   "execution_count": 33,
   "metadata": {},
   "outputs": [
    {
     "data": {
      "text/plain": [
       "<matplotlib.axes._subplots.AxesSubplot at 0x192496405c0>"
      ]
     },
     "execution_count": 33,
     "metadata": {},
     "output_type": "execute_result"
    },
    {
     "data": {
      "image/png": "[encoded data removed]",
      "text/plain": [
       "<Figure size 432x288 with 1 Axes>"
      ]
     },
     "metadata": {},
     "output_type": "display_data"
    }
   ],
   "source": [
    "df[df.DEATH_EVENT != 1].age.plot(kind='hist',bins=20)"
   ]
  },
  {
   "cell_type": "raw",
   "metadata": {},
   "source": [
    "If any outliers are identified as very likely wrong values, dropping them could improve the numerical values histograms, and later overall model performance. While a good rule of thumb is that anything not in the range of (Q1 - 1.5 IQR) and (Q3 + 1.5 IQR) is an outlier, other rules for removing 'outliers' should be considered as well. For example, removing any values in the upper 1%."
   ]
  },
  {
   "cell_type": "code",
   "execution_count": 44,
   "metadata": {},
   "outputs": [
    {
     "name": "stdout",
     "output_type": "stream",
     "text": [
      "column: age\n",
      "Lower level: 21.875  Upper level: 98.875\n",
      "Shape before drop:  (300,)\n",
      "Shape after drop:  (300,)\n",
      "column: anaemia\n",
      "Lower level: -1.5  Upper level: 2.5\n",
      "Shape before drop:  (300,)\n",
      "Shape after drop:  (300,)\n",
      "column: creatinine_phosphokinase\n",
      "Lower level: -581.75  Upper level: 1280.25\n",
      "Shape before drop:  (300,)\n",
      "Shape after drop:  (271,)\n",
      "column: diabetes\n",
      "Lower level: -1.5  Upper level: 2.5\n",
      "Shape before drop:  (271,)\n",
      "Shape after drop:  (271,)\n",
      "column: ejection_fraction\n",
      "Lower level: 7.5  Upper level: 67.5\n",
      "Shape before drop:  (271,)\n",
      "Shape after drop:  (269,)\n",
      "column: high_blood_pressure\n",
      "Lower level: -1.5  Upper level: 2.5\n",
      "Shape before drop:  (269,)\n",
      "Shape after drop:  (269,)\n",
      "column: platelets\n",
      "Lower level: 75500.0  Upper level: 439500.0\n",
      "Shape before drop:  (269,)\n",
      "Shape after drop:  (251,)\n",
      "column: serum_creatinine\n",
      "Lower level: 0.15000000000000024  Upper level: 2.1499999999999995\n",
      "Shape before drop:  (251,)\n",
      "Shape after drop:  (228,)\n",
      "column: serum_sodium\n",
      "Lower level: 125.0  Upper level: 149.0\n",
      "Shape before drop:  (228,)\n",
      "Shape after drop:  (225,)\n",
      "column: sex\n",
      "Lower level: -1.5  Upper level: 2.5\n",
      "Shape before drop:  (225,)\n",
      "Shape after drop:  (225,)\n",
      "column: smoking\n",
      "Lower level: -1.5  Upper level: 2.5\n",
      "Shape before drop:  (225,)\n",
      "Shape after drop:  (225,)\n",
      "column: time\n",
      "Lower level: -120.0  Upper level: 400.0\n",
      "Shape before drop:  (225,)\n",
      "Shape after drop:  (225,)\n"
     ]
    }
   ],
   "source": [
    "#removing outliers\n",
    "for c in numerical_features_all:\n",
    "    Q1 = df[c].quantile(0.25)\n",
    "    Q3 = df[c].quantile(0.75)\n",
    "    IQR = Q3-Q1\n",
    "    print(\"column:\", c)\n",
    "    print(\"Lower level:\",Q1-1.5*IQR,\" Upper level:\",Q3+1.5*IQR)\n",
    "    print(\"Shape before drop: \", df[c].shape)\n",
    "    dropIndexes = df[df[c] < Q1-1.5*IQR].index\n",
    "    df.drop(dropIndexes,inplace=True)\n",
    "    dropIndexes = df[df[c] > Q3+1.5*IQR].index\n",
    "    df.drop(dropIndexes,inplace=True)\n",
    "    print(\"Shape after drop: \", df[c].shape)"
   ]
  },
  {
   "cell_type": "code",
   "execution_count": 15,
   "metadata": {},
   "outputs": [
    {
     "name": "stdout",
     "output_type": "stream",
     "text": [
      "Box plot for  age\n"
     ]
    },
    {
     "data": {
      "image/png": "[encoded data removed]",
      "text/plain": [
       "<Figure size 432x288 with 1 Axes>"
      ]
     },
     "metadata": {},
     "output_type": "display_data"
    },
    {
     "name": "stdout",
     "output_type": "stream",
     "text": [
      "Box plot for  anaemia\n"
     ]
    },
    {
     "data": {
      "image/png": "[encoded data removed]",
      "text/plain": [
       "<Figure size 432x288 with 1 Axes>"
      ]
     },
     "metadata": {},
     "output_type": "display_data"
    },
    {
     "name": "stdout",
     "output_type": "stream",
     "text": [
      "Box plot for  creatinine_phosphokinase\n"
     ]
    },
    {
     "data": {
      "image/png": "[encoded data removed]",
      "text/plain": [
       "<Figure size 432x288 with 1 Axes>"
      ]
     },
     "metadata": {},
     "output_type": "display_data"
    },
    {
     "name": "stdout",
     "output_type": "stream",
     "text": [
      "Box plot for  diabetes\n"
     ]
    },
    {
     "data": {
      "image/png": "[encoded data removed]",
      "text/plain": [
       "<Figure size 432x288 with 1 Axes>"
      ]
     },
     "metadata": {},
     "output_type": "display_data"
    },
    {
     "name": "stdout",
     "output_type": "stream",
     "text": [
      "Box plot for  ejection_fraction\n"
     ]
    },
    {
     "data": {
      "image/png": "[encoded data removed]",
      "text/plain": [
       "<Figure size 432x288 with 1 Axes>"
      ]
     },
     "metadata": {},
     "output_type": "display_data"
    },
    {
     "name": "stdout",
     "output_type": "stream",
     "text": [
      "Box plot for  high_blood_pressure\n"
     ]
    },
    {
     "data": {
      "image/png": "[encoded data removed]",
      "text/plain": [
       "<Figure size 432x288 with 1 Axes>"
      ]
     },
     "metadata": {},
     "output_type": "display_data"
    },
    {
     "name": "stdout",
     "output_type": "stream",
     "text": [
      "Box plot for  platelets\n"
     ]
    },
    {
     "data": {
      "image/png": "[encoded data removed]",
      "text/plain": [
       "<Figure size 432x288 with 1 Axes>"
      ]
     },
     "metadata": {},
     "output_type": "display_data"
    },
    {
     "name": "stdout",
     "output_type": "stream",
     "text": [
      "Box plot for  serum_creatinine\n"
     ]
    },
    {
     "data": {
      "image/png": "[encoded data removed]",
      "text/plain": [
       "<Figure size 432x288 with 1 Axes>"
      ]
     },
     "metadata": {},
     "output_type": "display_data"
    },
    {
     "name": "stdout",
     "output_type": "stream",
     "text": [
      "Box plot for  serum_sodium\n"
     ]
    },
    {
     "data": {
      "image/png": "[encoded data removed]",
      "text/plain": [
       "<Figure size 432x288 with 1 Axes>"
      ]
     },
     "metadata": {},
     "output_type": "display_data"
    },
    {
     "name": "stdout",
     "output_type": "stream",
     "text": [
      "Box plot for  sex\n"
     ]
    },
    {
     "data": {
      "image/png": "[encoded data removed]",
      "text/plain": [
       "<Figure size 432x288 with 1 Axes>"
      ]
     },
     "metadata": {},
     "output_type": "display_data"
    },
    {
     "name": "stdout",
     "output_type": "stream",
     "text": [
      "Box plot for  smoking\n"
     ]
    },
    {
     "data": {
      "image/png": "[encoded data removed]",
      "text/plain": [
       "<Figure size 432x288 with 1 Axes>"
      ]
     },
     "metadata": {},
     "output_type": "display_data"
    },
    {
     "name": "stdout",
     "output_type": "stream",
     "text": [
      "Box plot for  time\n"
     ]
    },
    {
     "data": {
      "image/png": "[encoded data removed]",
      "text/plain": [
       "<Figure size 432x288 with 1 Axes>"
      ]
     },
     "metadata": {},
     "output_type": "display_data"
    }
   ],
   "source": [
    "#Detect outliers in model numerical features\n",
    "for c in numerical_features_all:\n",
    "    df[c].plot.box()\n",
    "    print(\"Box plot for \",c)\n",
    "    plt.show()"
   ]
  },
  {
   "cell_type": "code",
   "execution_count": 10,
   "metadata": {},
   "outputs": [
    {
     "name": "stdout",
     "output_type": "stream",
     "text": [
      "0 1\n",
      "                               age  creatinine_phosphokinase\n",
      "age                       1.000000                  0.029417\n",
      "creatinine_phosphokinase  0.029417                  1.000000\n",
      "0 2\n",
      "                        age  ejection_fraction\n",
      "age                1.000000           0.085668\n",
      "ejection_fraction  0.085668           1.000000\n",
      "0 3\n",
      "                age  platelets\n",
      "age        1.000000  -0.090753\n",
      "platelets -0.090753   1.000000\n",
      "0 4\n",
      "                       age  serum_creatinine\n",
      "age               1.000000          0.277358\n",
      "serum_creatinine  0.277358          1.000000\n",
      "0 5\n",
      "                   age  serum_sodium\n",
      "age           1.000000     -0.024793\n",
      "serum_sodium -0.024793      1.000000\n",
      "0 6\n",
      "           age      time\n",
      "age   1.000000 -0.227897\n",
      "time -0.227897  1.000000\n",
      "1 2\n",
      "                          creatinine_phosphokinase  ejection_fraction\n",
      "creatinine_phosphokinase                  1.000000          -0.124547\n",
      "ejection_fraction                        -0.124547           1.000000\n",
      "1 3\n",
      "                          creatinine_phosphokinase  platelets\n",
      "creatinine_phosphokinase                  1.000000   0.027437\n",
      "platelets                                 0.027437   1.000000\n",
      "1 4\n",
      "                          creatinine_phosphokinase  serum_creatinine\n",
      "creatinine_phosphokinase                  1.000000          0.119707\n",
      "serum_creatinine                          0.119707          1.000000\n",
      "1 5\n",
      "                          creatinine_phosphokinase  serum_sodium\n",
      "creatinine_phosphokinase                  1.000000     -0.121298\n",
      "serum_sodium                             -0.121298      1.000000\n",
      "1 6\n",
      "                          creatinine_phosphokinase    time\n",
      "creatinine_phosphokinase                    1.0000  0.1193\n",
      "time                                        0.1193  1.0000\n",
      "2 3\n",
      "                   ejection_fraction  platelets\n",
      "ejection_fraction           1.000000   0.083675\n",
      "platelets                   0.083675   1.000000\n",
      "2 4\n",
      "                   ejection_fraction  serum_creatinine\n",
      "ejection_fraction           1.000000         -0.197565\n",
      "serum_creatinine           -0.197565          1.000000\n",
      "2 5\n",
      "                   ejection_fraction  serum_sodium\n",
      "ejection_fraction           1.000000      0.169013\n",
      "serum_sodium                0.169013      1.000000\n",
      "2 6\n",
      "                   ejection_fraction      time\n",
      "ejection_fraction           1.000000  0.058918\n",
      "time                        0.058918  1.000000\n",
      "3 4\n",
      "                  platelets  serum_creatinine\n",
      "platelets           1.00000          -0.03324\n",
      "serum_creatinine   -0.03324           1.00000\n",
      "3 5\n",
      "              platelets  serum_sodium\n",
      "platelets      1.000000      0.008382\n",
      "serum_sodium   0.008382      1.000000\n",
      "3 6\n",
      "           platelets      time\n",
      "platelets   1.000000  0.037306\n",
      "time        0.037306  1.000000\n",
      "4 5\n",
      "                  serum_creatinine  serum_sodium\n",
      "serum_creatinine          1.000000     -0.216217\n",
      "serum_sodium             -0.216217      1.000000\n",
      "4 6\n",
      "                  serum_creatinine      time\n",
      "serum_creatinine          1.000000 -0.111504\n",
      "time                     -0.111504  1.000000\n",
      "5 6\n",
      "              serum_sodium      time\n",
      "serum_sodium      1.000000  0.027019\n",
      "time              0.027019  1.000000\n"
     ]
    }
   ],
   "source": [
    "#check correlation between numerical featues\n",
    "for i in range(0,len(numerical_features_all)):\n",
    "    #print(len(numerical_features_all))\n",
    "    j=i+1\n",
    "    while j <= len(numerical_features_all)-1:\n",
    "        print(i,j)\n",
    "        cols=[numerical_features_all[i],numerical_features_all[j]]\n",
    "        print(df[cols].corr())\n",
    "        j+=1"
   ]
  },
  {
   "cell_type": "code",
   "execution_count": 11,
   "metadata": {},
   "outputs": [
    {
     "data": {
      "text/plain": [
       "<matplotlib.axes._subplots.AxesSubplot at 0x1b177adb8d0>"
      ]
     },
     "execution_count": 11,
     "metadata": {},
     "output_type": "execute_result"
    }
   ],
   "source": [
    "df.plot.scatter(x='age',y='serum_sodium')"
   ]
  },
  {
   "cell_type": "markdown",
   "metadata": {},
   "source": [
    "# Missing Data"
   ]
  },
  {
   "cell_type": "code",
   "execution_count": 16,
   "metadata": {},
   "outputs": [
    {
     "data": {
      "text/plain": [
       "age                         0\n",
       "anaemia                     0\n",
       "creatinine_phosphokinase    0\n",
       "diabetes                    0\n",
       "ejection_fraction           0\n",
       "high_blood_pressure         0\n",
       "platelets                   0\n",
       "serum_creatinine            0\n",
       "serum_sodium                0\n",
       "sex                         0\n",
       "smoking                     0\n",
       "time                        0\n",
       "DEATH_EVENT                 0\n",
       "dtype: int64"
      ]
     },
     "execution_count": 16,
     "metadata": {},
     "output_type": "execute_result"
    }
   ],
   "source": [
    "df.isna().sum()"
   ]
  },
  {
   "cell_type": "raw",
   "metadata": {},
   "source": [
    "Drop Rows with missing values\n",
    "df_missing_dropped = df.dropna()"
   ]
  },
  {
   "cell_type": "code",
   "execution_count": 56,
   "metadata": {},
   "outputs": [
    {
     "name": "stdout",
     "output_type": "stream",
     "text": [
      "age                         0\n",
      "anaemia                     0\n",
      "creatinine_phosphokinase    0\n",
      "diabetes                    0\n",
      "ejection_fraction           0\n",
      "high_blood_pressure         0\n",
      "platelets                   0\n",
      "serum_creatinine            0\n",
      "serum_sodium                0\n",
      "sex                         0\n",
      "smoking                     0\n",
      "time                        0\n",
      "DEATH_EVENT                 0\n",
      "dtype: int64\n"
     ]
    }
   ],
   "source": [
    "#Impute numerical feature missing with mean value\n",
    "df_imputed = df.copy()\n",
    "\n",
    "#impute two or more numerical features\n",
    "df_imputed[numerical_features_all] = df_imputed[numerical_features_all].fillna(df_imputed[numerical_features_all].mean())\n",
    "print(df_imputed.isna().sum())"
   ]
  },
  {
   "cell_type": "code",
   "execution_count": 53,
   "metadata": {},
   "outputs": [],
   "source": [
    "numerical_imputation_json = df_imputed[numerical_features_all].mean().to_json(orient=\"index\")\n",
    "with open(numeric_imputed_json_path,\"w\") as jsonfile:\n",
    "    jsonfile.write(numerical_imputation_json)"
   ]
  },
  {
   "cell_type": "code",
   "execution_count": 62,
   "metadata": {},
   "outputs": [
    {
     "name": "stdout",
     "output_type": "stream",
     "text": [
      "age                         0\n",
      "anaemia                     0\n",
      "creatinine_phosphokinase    0\n",
      "diabetes                    0\n",
      "ejection_fraction           0\n",
      "high_blood_pressure         0\n",
      "platelets                   0\n",
      "serum_creatinine            0\n",
      "serum_sodium                0\n",
      "sex                         0\n",
      "smoking                     0\n",
      "time                        0\n",
      "DEATH_EVENT                 0\n",
      "dtype: int64\n"
     ]
    }
   ],
   "source": [
    "#Impute categorical feature missing with Mode (most frequent) value\n",
    "mode_dict = dict()\n",
    "#df_imputed = df.copy()\n",
    "\n",
    "#identify the mode\n",
    "for c in df[categorical_features_all]:\n",
    "    mode_value = df_imputed[c].mode()\n",
    "    mode_dict[c] = mode_value\n",
    "\n",
    "#impute feature with mode\n",
    "    df_imputed[c].fillna(mode_value,inplace=True)\n",
    "\n",
    "print(df_imputed.isna().sum())\n"
   ]
  },
  {
   "cell_type": "code",
   "execution_count": 63,
   "metadata": {},
   "outputs": [],
   "source": [
    "categorical_imputation_json = json.dumps(mode_dict)\n",
    "with open(categorical_imputed_json_path,\"w\") as jsonfile:\n",
    "    jsonfile.write(categorical_imputation_json)"
   ]
  },
  {
   "cell_type": "code",
   "execution_count": 41,
   "metadata": {},
   "outputs": [
    {
     "data": {
      "text/html": [
       "<div>\n",
       "<style scoped>\n",
       "    .dataframe tbody tr th:only-of-type {\n",
       "        vertical-align: middle;\n",
       "    }\n",
       "\n",
       "    .dataframe tbody tr th {\n",
       "        vertical-align: top;\n",
       "    }\n",
       "\n",
       "    .dataframe thead th {\n",
       "        text-align: right;\n",
       "    }\n",
       "</style>\n",
       "<table border=\"1\" class=\"dataframe\">\n",
       "  <thead>\n",
       "    <tr style=\"text-align: right;\">\n",
       "      <th>anaemia</th>\n",
       "      <th>0</th>\n",
       "      <th>1</th>\n",
       "    </tr>\n",
       "    <tr>\n",
       "      <th>DEATH_EVENT</th>\n",
       "      <th></th>\n",
       "      <th></th>\n",
       "    </tr>\n",
       "  </thead>\n",
       "  <tbody>\n",
       "    <tr>\n",
       "      <th>0</th>\n",
       "      <td>120</td>\n",
       "      <td>83</td>\n",
       "    </tr>\n",
       "    <tr>\n",
       "      <th>1</th>\n",
       "      <td>50</td>\n",
       "      <td>46</td>\n",
       "    </tr>\n",
       "  </tbody>\n",
       "</table>\n",
       "</div>"
      ],
      "text/plain": [
       "anaemia        0   1\n",
       "DEATH_EVENT         \n",
       "0            120  83\n",
       "1             50  46"
      ]
     },
     "execution_count": 41,
     "metadata": {},
     "output_type": "execute_result"
    }
   ],
   "source": [
    "pd.crosstab(df.DEATH_EVENT,df.anaemia)"
   ]
  },
  {
   "cell_type": "code",
   "execution_count": 46,
   "metadata": {},
   "outputs": [
    {
     "data": {
      "text/html": [
       "<div>\n",
       "<style scoped>\n",
       "    .dataframe tbody tr th:only-of-type {\n",
       "        vertical-align: middle;\n",
       "    }\n",
       "\n",
       "    .dataframe tbody tr th {\n",
       "        vertical-align: top;\n",
       "    }\n",
       "\n",
       "    .dataframe thead th {\n",
       "        text-align: right;\n",
       "    }\n",
       "</style>\n",
       "<table border=\"1\" class=\"dataframe\">\n",
       "  <thead>\n",
       "    <tr style=\"text-align: right;\">\n",
       "      <th>diabetes</th>\n",
       "      <th>0</th>\n",
       "      <th>1</th>\n",
       "    </tr>\n",
       "    <tr>\n",
       "      <th>DEATH_EVENT</th>\n",
       "      <th></th>\n",
       "      <th></th>\n",
       "    </tr>\n",
       "  </thead>\n",
       "  <tbody>\n",
       "    <tr>\n",
       "      <th>0</th>\n",
       "      <td>118</td>\n",
       "      <td>85</td>\n",
       "    </tr>\n",
       "    <tr>\n",
       "      <th>1</th>\n",
       "      <td>56</td>\n",
       "      <td>40</td>\n",
       "    </tr>\n",
       "  </tbody>\n",
       "</table>\n",
       "</div>"
      ],
      "text/plain": [
       "diabetes       0   1\n",
       "DEATH_EVENT         \n",
       "0            118  85\n",
       "1             56  40"
      ]
     },
     "execution_count": 46,
     "metadata": {},
     "output_type": "execute_result"
    }
   ],
   "source": [
    "pd.crosstab(df.DEATH_EVENT,df.diabetes)"
   ]
  },
  {
   "cell_type": "code",
   "execution_count": 20,
   "metadata": {},
   "outputs": [
    {
     "name": "stdout",
     "output_type": "stream",
     "text": [
      "<class 'pandas.core.frame.DataFrame'>\n",
      "Int64Index: 224 entries, 0 to 298\n",
      "Data columns (total 7 columns):\n",
      "age                         224 non-null float64\n",
      "creatinine_phosphokinase    224 non-null int64\n",
      "ejection_fraction           224 non-null int64\n",
      "platelets                   224 non-null float64\n",
      "serum_creatinine            224 non-null float64\n",
      "serum_sodium                224 non-null int64\n",
      "time                        224 non-null int64\n",
      "dtypes: float64(3), int64(4)\n",
      "memory usage: 14.0 KB\n"
     ]
    }
   ],
   "source": [
    "df[numerical_features_all].info()"
   ]
  },
  {
   "cell_type": "markdown",
   "metadata": {},
   "source": [
    "# Correlation analysis "
   ]
  },
  {
   "cell_type": "code",
   "execution_count": 58,
   "metadata": {},
   "outputs": [
    {
     "data": {
      "text/html": [
       "<div>\n",
       "<style scoped>\n",
       "    .dataframe tbody tr th:only-of-type {\n",
       "        vertical-align: middle;\n",
       "    }\n",
       "\n",
       "    .dataframe tbody tr th {\n",
       "        vertical-align: top;\n",
       "    }\n",
       "\n",
       "    .dataframe thead th {\n",
       "        text-align: right;\n",
       "    }\n",
       "</style>\n",
       "<table border=\"1\" class=\"dataframe\">\n",
       "  <thead>\n",
       "    <tr style=\"text-align: right;\">\n",
       "      <th></th>\n",
       "      <th>age</th>\n",
       "      <th>creatinine_phosphokinase</th>\n",
       "      <th>ejection_fraction</th>\n",
       "      <th>platelets</th>\n",
       "      <th>serum_creatinine</th>\n",
       "      <th>serum_sodium</th>\n",
       "      <th>time</th>\n",
       "    </tr>\n",
       "  </thead>\n",
       "  <tbody>\n",
       "    <tr>\n",
       "      <th>age</th>\n",
       "      <td>1.00</td>\n",
       "      <td>0.03</td>\n",
       "      <td>0.09</td>\n",
       "      <td>-0.09</td>\n",
       "      <td>0.28</td>\n",
       "      <td>-0.02</td>\n",
       "      <td>-0.23</td>\n",
       "    </tr>\n",
       "    <tr>\n",
       "      <th>creatinine_phosphokinase</th>\n",
       "      <td>0.03</td>\n",
       "      <td>1.00</td>\n",
       "      <td>-0.12</td>\n",
       "      <td>0.03</td>\n",
       "      <td>0.12</td>\n",
       "      <td>-0.12</td>\n",
       "      <td>0.12</td>\n",
       "    </tr>\n",
       "    <tr>\n",
       "      <th>ejection_fraction</th>\n",
       "      <td>0.09</td>\n",
       "      <td>-0.12</td>\n",
       "      <td>1.00</td>\n",
       "      <td>0.08</td>\n",
       "      <td>-0.20</td>\n",
       "      <td>0.17</td>\n",
       "      <td>0.06</td>\n",
       "    </tr>\n",
       "    <tr>\n",
       "      <th>platelets</th>\n",
       "      <td>-0.09</td>\n",
       "      <td>0.03</td>\n",
       "      <td>0.08</td>\n",
       "      <td>1.00</td>\n",
       "      <td>-0.03</td>\n",
       "      <td>0.01</td>\n",
       "      <td>0.04</td>\n",
       "    </tr>\n",
       "    <tr>\n",
       "      <th>serum_creatinine</th>\n",
       "      <td>0.28</td>\n",
       "      <td>0.12</td>\n",
       "      <td>-0.20</td>\n",
       "      <td>-0.03</td>\n",
       "      <td>1.00</td>\n",
       "      <td>-0.22</td>\n",
       "      <td>-0.11</td>\n",
       "    </tr>\n",
       "    <tr>\n",
       "      <th>serum_sodium</th>\n",
       "      <td>-0.02</td>\n",
       "      <td>-0.12</td>\n",
       "      <td>0.17</td>\n",
       "      <td>0.01</td>\n",
       "      <td>-0.22</td>\n",
       "      <td>1.00</td>\n",
       "      <td>0.03</td>\n",
       "    </tr>\n",
       "    <tr>\n",
       "      <th>time</th>\n",
       "      <td>-0.23</td>\n",
       "      <td>0.12</td>\n",
       "      <td>0.06</td>\n",
       "      <td>0.04</td>\n",
       "      <td>-0.11</td>\n",
       "      <td>0.03</td>\n",
       "      <td>1.00</td>\n",
       "    </tr>\n",
       "  </tbody>\n",
       "</table>\n",
       "</div>"
      ],
      "text/plain": [
       "                           age  creatinine_phosphokinase  ejection_fraction  \\\n",
       "age                       1.00                      0.03               0.09   \n",
       "creatinine_phosphokinase  0.03                      1.00              -0.12   \n",
       "ejection_fraction         0.09                     -0.12               1.00   \n",
       "platelets                -0.09                      0.03               0.08   \n",
       "serum_creatinine          0.28                      0.12              -0.20   \n",
       "serum_sodium             -0.02                     -0.12               0.17   \n",
       "time                     -0.23                      0.12               0.06   \n",
       "\n",
       "                          platelets  serum_creatinine  serum_sodium  time  \n",
       "age                           -0.09              0.28         -0.02 -0.23  \n",
       "creatinine_phosphokinase       0.03              0.12         -0.12  0.12  \n",
       "ejection_fraction              0.08             -0.20          0.17  0.06  \n",
       "platelets                      1.00             -0.03          0.01  0.04  \n",
       "serum_creatinine              -0.03              1.00         -0.22 -0.11  \n",
       "serum_sodium                   0.01             -0.22          1.00  0.03  \n",
       "time                           0.04             -0.11          0.03  1.00  "
      ]
     },
     "execution_count": 58,
     "metadata": {},
     "output_type": "execute_result"
    }
   ],
   "source": [
    "df[numerical_features_all].corr().apply(lambda x: x.round(2))"
   ]
  },
  {
   "cell_type": "code",
   "execution_count": 109,
   "metadata": {
    "scrolled": false
   },
   "outputs": [
    {
     "data": {
      "image/png": "[encoded data removed]",
      "text/plain": [
       "<Figure size 1200x800 with 2 Axes>"
      ]
     },
     "metadata": {},
     "output_type": "display_data"
    }
   ],
   "source": [
    "%matplotlib inline\n",
    "import matplotlib.pyplot as plt\n",
    "\n",
    "\n",
    "corr = df[numerical_features_all].corr().apply(lambda x: x.round(2))\n",
    "fig = plt.figure(figsize=(12,8),dpi=100)\n",
    "ax = fig.add_subplot(111)\n",
    "cax = ax.matshow(corr,cmap='coolwarm',vmin=-1,vmax=1)\n",
    "fig.colorbar(cax)\n",
    "ticks = np.arange(0,len(df[numerical_features_all].columns),1)\n",
    "ax.set_xticks(ticks)\n",
    "plt.xticks(rotation=90)\n",
    "#ax.annotate(str(cax.value),xy=(ticks,ticks))\n",
    "ax.set_yticks(ticks)\n",
    "ax.set_xticklabels(df[numerical_features_all].columns)\n",
    "ax.set_yticklabels(df[numerical_features_all].columns)\n",
    "for (x,y),val in np.ndenumerate(corr):\n",
    "    #ax.text(pos,pos,'{}'.format(corr[[col,col]]),ha='center',va='center')\n",
    "    ax.annotate('{}'.format(val),xy=(x,y))\n",
    "plt.show()"
   ]
  },
  {
   "cell_type": "code",
   "execution_count": 28,
   "metadata": {},
   "outputs": [
    {
     "data": {
      "text/html": [
       "<div>\n",
       "<style scoped>\n",
       "    .dataframe tbody tr th:only-of-type {\n",
       "        vertical-align: middle;\n",
       "    }\n",
       "\n",
       "    .dataframe tbody tr th {\n",
       "        vertical-align: top;\n",
       "    }\n",
       "\n",
       "    .dataframe thead th {\n",
       "        text-align: right;\n",
       "    }\n",
       "</style>\n",
       "<table border=\"1\" class=\"dataframe\">\n",
       "  <thead>\n",
       "    <tr style=\"text-align: right;\">\n",
       "      <th></th>\n",
       "      <th>age</th>\n",
       "      <th>serum_creatinine</th>\n",
       "    </tr>\n",
       "  </thead>\n",
       "  <tbody>\n",
       "    <tr>\n",
       "      <th>age</th>\n",
       "      <td>1.000000</td>\n",
       "      <td>0.277358</td>\n",
       "    </tr>\n",
       "    <tr>\n",
       "      <th>serum_creatinine</th>\n",
       "      <td>0.277358</td>\n",
       "      <td>1.000000</td>\n",
       "    </tr>\n",
       "  </tbody>\n",
       "</table>\n",
       "</div>"
      ],
      "text/plain": [
       "                       age  serum_creatinine\n",
       "age               1.000000          0.277358\n",
       "serum_creatinine  0.277358          1.000000"
      ]
     },
     "execution_count": 28,
     "metadata": {},
     "output_type": "execute_result"
    }
   ],
   "source": [
    "df[[\"age\",\"serum_creatinine\"]].corr()"
   ]
  },
  {
   "cell_type": "markdown",
   "metadata": {},
   "source": [
    "# Feature Encoding"
   ]
  },
  {
   "cell_type": "code",
   "execution_count": 98,
   "metadata": {},
   "outputs": [
    {
     "data": {
      "text/html": [
       "<div>\n",
       "<style scoped>\n",
       "    .dataframe tbody tr th:only-of-type {\n",
       "        vertical-align: middle;\n",
       "    }\n",
       "\n",
       "    .dataframe tbody tr th {\n",
       "        vertical-align: top;\n",
       "    }\n",
       "\n",
       "    .dataframe thead th {\n",
       "        text-align: right;\n",
       "    }\n",
       "</style>\n",
       "<table border=\"1\" class=\"dataframe\">\n",
       "  <thead>\n",
       "    <tr style=\"text-align: right;\">\n",
       "      <th></th>\n",
       "      <th>age</th>\n",
       "      <th>anaemia</th>\n",
       "      <th>creatinine_phosphokinase</th>\n",
       "      <th>diabetes</th>\n",
       "      <th>ejection_fraction</th>\n",
       "      <th>high_blood_pressure</th>\n",
       "      <th>platelets</th>\n",
       "      <th>serum_creatinine</th>\n",
       "      <th>serum_sodium</th>\n",
       "      <th>sex</th>\n",
       "      <th>smoking</th>\n",
       "      <th>time</th>\n",
       "      <th>DEATH_EVENT</th>\n",
       "    </tr>\n",
       "  </thead>\n",
       "  <tbody>\n",
       "    <tr>\n",
       "      <th>0</th>\n",
       "      <td>75.0</td>\n",
       "      <td>0</td>\n",
       "      <td>582</td>\n",
       "      <td>0</td>\n",
       "      <td>20</td>\n",
       "      <td>1</td>\n",
       "      <td>265000.0</td>\n",
       "      <td>1.9</td>\n",
       "      <td>130</td>\n",
       "      <td>1</td>\n",
       "      <td>0</td>\n",
       "      <td>4</td>\n",
       "      <td>1</td>\n",
       "    </tr>\n",
       "    <tr>\n",
       "      <th>2</th>\n",
       "      <td>65.0</td>\n",
       "      <td>0</td>\n",
       "      <td>146</td>\n",
       "      <td>0</td>\n",
       "      <td>20</td>\n",
       "      <td>0</td>\n",
       "      <td>162000.0</td>\n",
       "      <td>1.3</td>\n",
       "      <td>129</td>\n",
       "      <td>1</td>\n",
       "      <td>1</td>\n",
       "      <td>7</td>\n",
       "      <td>1</td>\n",
       "    </tr>\n",
       "    <tr>\n",
       "      <th>3</th>\n",
       "      <td>50.0</td>\n",
       "      <td>1</td>\n",
       "      <td>111</td>\n",
       "      <td>0</td>\n",
       "      <td>20</td>\n",
       "      <td>0</td>\n",
       "      <td>210000.0</td>\n",
       "      <td>1.9</td>\n",
       "      <td>137</td>\n",
       "      <td>1</td>\n",
       "      <td>0</td>\n",
       "      <td>7</td>\n",
       "      <td>1</td>\n",
       "    </tr>\n",
       "    <tr>\n",
       "      <th>5</th>\n",
       "      <td>90.0</td>\n",
       "      <td>1</td>\n",
       "      <td>47</td>\n",
       "      <td>0</td>\n",
       "      <td>40</td>\n",
       "      <td>1</td>\n",
       "      <td>204000.0</td>\n",
       "      <td>2.1</td>\n",
       "      <td>132</td>\n",
       "      <td>1</td>\n",
       "      <td>1</td>\n",
       "      <td>8</td>\n",
       "      <td>1</td>\n",
       "    </tr>\n",
       "    <tr>\n",
       "      <th>6</th>\n",
       "      <td>75.0</td>\n",
       "      <td>1</td>\n",
       "      <td>246</td>\n",
       "      <td>0</td>\n",
       "      <td>15</td>\n",
       "      <td>0</td>\n",
       "      <td>127000.0</td>\n",
       "      <td>1.2</td>\n",
       "      <td>137</td>\n",
       "      <td>1</td>\n",
       "      <td>0</td>\n",
       "      <td>10</td>\n",
       "      <td>1</td>\n",
       "    </tr>\n",
       "  </tbody>\n",
       "</table>\n",
       "</div>"
      ],
      "text/plain": [
       "    age  anaemia  creatinine_phosphokinase  diabetes  ejection_fraction  \\\n",
       "0  75.0        0                       582         0                 20   \n",
       "2  65.0        0                       146         0                 20   \n",
       "3  50.0        1                       111         0                 20   \n",
       "5  90.0        1                        47         0                 40   \n",
       "6  75.0        1                       246         0                 15   \n",
       "\n",
       "   high_blood_pressure  platelets  serum_creatinine  serum_sodium  sex  \\\n",
       "0                    1   265000.0               1.9           130    1   \n",
       "2                    0   162000.0               1.3           129    1   \n",
       "3                    0   210000.0               1.9           137    1   \n",
       "5                    1   204000.0               2.1           132    1   \n",
       "6                    0   127000.0               1.2           137    1   \n",
       "\n",
       "   smoking  time  DEATH_EVENT  \n",
       "0        0     4            1  \n",
       "2        1     7            1  \n",
       "3        0     7            1  \n",
       "5        1     8            1  \n",
       "6        0    10            1  "
      ]
     },
     "execution_count": 98,
     "metadata": {},
     "output_type": "execute_result"
    }
   ],
   "source": [
    "df.head()"
   ]
  },
  {
   "cell_type": "code",
   "execution_count": 7,
   "metadata": {},
   "outputs": [],
   "source": [
    "df = df.astype({\"age\":\"int8\"})"
   ]
  },
  {
   "cell_type": "code",
   "execution_count": 8,
   "metadata": {},
   "outputs": [],
   "source": [
    "#cut equal size bins for age with actual frequency..use qcut where unequal bins but distribution of value\n",
    "%timeit\n",
    "age_bins=[0,5,15,30,45,60,75,90,105]\n",
    "age_labels = [\"kid\",\"teen\",\"young\",\"midage\",\"upperage\",\"senior\",\"old\",\"veryold\"]\n",
    "df[\"age\"] = pd.cut(df[\"age\"],bins=age_bins,labels=age_labels)\n",
    "qcut_labels = [\"verylow\",\"low\",\"med\",\"high\",\"veryhigh\"] \n",
    "df[\"creatinine_phosphokinase\"] = pd.qcut(df[\"creatinine_phosphokinase\"],q=5,labels=qcut_labels)\n",
    "#df[\"ejection_fraction\"] = pd.qcut(df[\"ejection_fraction\"]),q=5,lables=qcut_labels)\n",
    "df[\"platelets\"] = pd.qcut(df[\"platelets\"],q=5,labels=qcut_labels)\n",
    "df[\"serum_creatinine\"]=pd.qcut(df[\"serum_creatinine\"],q=5,labels=qcut_labels)\n",
    "#df[\"serum_sodium\"] = pd.qcut(df[\"serum_sodium\"],q=5,labels=qcut_labels)\n",
    "#df[\"time\"] = pd.qcut(df[\"time\"],q=5,labels=qcut_labels)"
   ]
  },
  {
   "cell_type": "code",
   "execution_count": 113,
   "metadata": {},
   "outputs": [
    {
     "name": "stdout",
     "output_type": "stream",
     "text": [
      "<class 'pandas.core.frame.DataFrame'>\n",
      "Int64Index: 224 entries, 0 to 298\n",
      "Data columns (total 13 columns):\n",
      "age                         224 non-null category\n",
      "anaemia                     224 non-null int64\n",
      "creatinine_phosphokinase    224 non-null category\n",
      "diabetes                    224 non-null int64\n",
      "ejection_fraction           224 non-null int64\n",
      "high_blood_pressure         224 non-null int64\n",
      "platelets                   224 non-null category\n",
      "serum_creatinine            224 non-null category\n",
      "serum_sodium                224 non-null int64\n",
      "sex                         224 non-null int64\n",
      "smoking                     224 non-null int64\n",
      "time                        224 non-null int64\n",
      "DEATH_EVENT                 224 non-null int64\n",
      "dtypes: category(4), int64(9)\n",
      "memory usage: 19.3 KB\n"
     ]
    }
   ],
   "source": [
    "df.info()"
   ]
  },
  {
   "cell_type": "code",
   "execution_count": 9,
   "metadata": {},
   "outputs": [],
   "source": [
    "#Perform One hot encoding\n",
    "df_encoded = pd.get_dummies(df)"
   ]
  },
  {
   "cell_type": "code",
   "execution_count": 10,
   "metadata": {},
   "outputs": [
    {
     "name": "stdout",
     "output_type": "stream",
     "text": [
      "anaemia                              0\n",
      "diabetes                             0\n",
      "ejection_fraction                    0\n",
      "high_blood_pressure                  0\n",
      "serum_sodium                         0\n",
      "sex                                  0\n",
      "smoking                              0\n",
      "time                                 0\n",
      "DEATH_EVENT                          0\n",
      "age_kid                              0\n",
      "age_teen                             0\n",
      "age_young                            0\n",
      "age_midage                           0\n",
      "age_upperage                         0\n",
      "age_senior                           0\n",
      "age_old                              0\n",
      "age_veryold                          0\n",
      "creatinine_phosphokinase_verylow     0\n",
      "creatinine_phosphokinase_low         0\n",
      "creatinine_phosphokinase_med         0\n",
      "creatinine_phosphokinase_high        0\n",
      "creatinine_phosphokinase_veryhigh    0\n",
      "platelets_verylow                    0\n",
      "platelets_low                        0\n",
      "platelets_med                        0\n",
      "platelets_high                       0\n",
      "platelets_veryhigh                   0\n",
      "serum_creatinine_verylow             0\n",
      "serum_creatinine_low                 0\n",
      "serum_creatinine_med                 0\n",
      "serum_creatinine_high                0\n",
      "serum_creatinine_veryhigh            0\n",
      "dtype: int64\n",
      "<class 'pandas.core.frame.DataFrame'>\n",
      "Int64Index: 224 entries, 0 to 298\n",
      "Data columns (total 32 columns):\n",
      "anaemia                              224 non-null int64\n",
      "diabetes                             224 non-null int64\n",
      "ejection_fraction                    224 non-null int64\n",
      "high_blood_pressure                  224 non-null int64\n",
      "serum_sodium                         224 non-null int64\n",
      "sex                                  224 non-null int64\n",
      "smoking                              224 non-null int64\n",
      "time                                 224 non-null int64\n",
      "DEATH_EVENT                          224 non-null int64\n",
      "age_kid                              224 non-null uint8\n",
      "age_teen                             224 non-null uint8\n",
      "age_young                            224 non-null uint8\n",
      "age_midage                           224 non-null uint8\n",
      "age_upperage                         224 non-null uint8\n",
      "age_senior                           224 non-null uint8\n",
      "age_old                              224 non-null uint8\n",
      "age_veryold                          224 non-null uint8\n",
      "creatinine_phosphokinase_verylow     224 non-null uint8\n",
      "creatinine_phosphokinase_low         224 non-null uint8\n",
      "creatinine_phosphokinase_med         224 non-null uint8\n",
      "creatinine_phosphokinase_high        224 non-null uint8\n",
      "creatinine_phosphokinase_veryhigh    224 non-null uint8\n",
      "platelets_verylow                    224 non-null uint8\n",
      "platelets_low                        224 non-null uint8\n",
      "platelets_med                        224 non-null uint8\n",
      "platelets_high                       224 non-null uint8\n",
      "platelets_veryhigh                   224 non-null uint8\n",
      "serum_creatinine_verylow             224 non-null uint8\n",
      "serum_creatinine_low                 224 non-null uint8\n",
      "serum_creatinine_med                 224 non-null uint8\n",
      "serum_creatinine_high                224 non-null uint8\n",
      "serum_creatinine_veryhigh            224 non-null uint8\n",
      "dtypes: int64(9), uint8(23)\n",
      "memory usage: 22.5 KB\n",
      "None\n"
     ]
    }
   ],
   "source": [
    "#check for nulls\n",
    "print(df_encoded.isna().sum())\n",
    "print(df_encoded.info())"
   ]
  },
  {
   "cell_type": "code",
   "execution_count": 11,
   "metadata": {},
   "outputs": [
    {
     "name": "stdout",
     "output_type": "stream",
     "text": [
      "   anaemia  diabetes  ejection_fraction  high_blood_pressure  serum_sodium  \\\n",
      "0        0         0                 20                    1           130   \n",
      "2        0         0                 20                    0           129   \n",
      "3        1         0                 20                    0           137   \n",
      "5        1         0                 40                    1           132   \n",
      "6        1         0                 15                    0           137   \n",
      "\n",
      "   sex  smoking  time  age_kid  age_teen     ...       platelets_low  \\\n",
      "0    1        0     4        0         0     ...                   0   \n",
      "2    1        1     7        0         0     ...                   0   \n",
      "3    1        0     7        0         0     ...                   1   \n",
      "5    1        1     8        0         0     ...                   1   \n",
      "6    1        0    10        0         0     ...                   0   \n",
      "\n",
      "   platelets_med  platelets_high  platelets_veryhigh  \\\n",
      "0              1               0                   0   \n",
      "2              0               0                   0   \n",
      "3              0               0                   0   \n",
      "5              0               0                   0   \n",
      "6              0               0                   0   \n",
      "\n",
      "   serum_creatinine_verylow  serum_creatinine_low  serum_creatinine_med  \\\n",
      "0                         0                     0                     0   \n",
      "2                         0                     0                     0   \n",
      "3                         0                     0                     0   \n",
      "5                         0                     0                     0   \n",
      "6                         0                     0                     0   \n",
      "\n",
      "   serum_creatinine_high  serum_creatinine_veryhigh  DEATH_EVENT  \n",
      "0                      0                          1            1  \n",
      "2                      1                          0            1  \n",
      "3                      0                          1            1  \n",
      "5                      0                          1            1  \n",
      "6                      1                          0            1  \n",
      "\n",
      "[5 rows x 32 columns]\n"
     ]
    }
   ],
   "source": [
    "#move target column to the end of df\n",
    "target = df_encoded[model_target]\n",
    "df_encoded.drop(columns=[model_target], inplace=True)\n",
    "df_encoded.insert(31,model_target,target)\n",
    "print(df_encoded.head())"
   ]
  },
  {
   "cell_type": "markdown",
   "metadata": {},
   "source": [
    "# Perform test train split"
   ]
  },
  {
   "cell_type": "code",
   "execution_count": 12,
   "metadata": {},
   "outputs": [],
   "source": [
    "from sklearn.model_selection import train_test_split\n",
    "\n",
    "train_data, test_data = train_test_split(df_encoded,test_size=0.1,shuffle=True,random_state=23)"
   ]
  },
  {
   "cell_type": "code",
   "execution_count": 13,
   "metadata": {},
   "outputs": [
    {
     "data": {
      "text/plain": [
       "(201, 32)"
      ]
     },
     "execution_count": 13,
     "metadata": {},
     "output_type": "execute_result"
    }
   ],
   "source": [
    "train_data.shape"
   ]
  },
  {
   "cell_type": "code",
   "execution_count": 14,
   "metadata": {},
   "outputs": [
    {
     "data": {
      "text/plain": [
       "(23, 32)"
      ]
     },
     "execution_count": 14,
     "metadata": {},
     "output_type": "execute_result"
    }
   ],
   "source": [
    "test_data.shape"
   ]
  },
  {
   "cell_type": "raw",
   "metadata": {},
   "source": [
    "# Target Balancing in Train data"
   ]
  },
  {
   "cell_type": "code",
   "execution_count": 15,
   "metadata": {},
   "outputs": [
    {
     "name": "stdout",
     "output_type": "stream",
     "text": [
      "Model Target 0 values (150, 32)\n",
      "Model Target 1 values (51, 32)\n"
     ]
    }
   ],
   "source": [
    "print(\"Model Target 0 values\",train_data[train_data[model_target] == 0 ].shape)\n",
    "print(\"Model Target 1 values\",train_data[train_data[model_target] == 1 ].shape)"
   ]
  },
  {
   "cell_type": "code",
   "execution_count": 16,
   "metadata": {},
   "outputs": [
    {
     "name": "stdout",
     "output_type": "stream",
     "text": [
      "Model Target 0 values after balancing (150, 32)\n",
      "Model Target 1 values after balancing (150, 32)\n"
     ]
    }
   ],
   "source": [
    "from sklearn.utils import shuffle\n",
    "class_0 = train_data[train_data[model_target] == 0 ]\n",
    "class_1 = train_data[train_data[model_target] == 1 ]\n",
    "\n",
    "sampled_class_1 = class_1.sample(n=len(class_0),replace=True,random_state=42)\n",
    "\n",
    "train_data = pd.concat([sampled_class_1,class_0])\n",
    "train_data = shuffle(train_data)\n",
    "print(\"Model Target 0 values after balancing\",train_data[train_data[model_target] == 0 ].shape)\n",
    "print(\"Model Target 1 values after balancing\",train_data[train_data[model_target] == 1 ].shape)"
   ]
  },
  {
   "cell_type": "code",
   "execution_count": 17,
   "metadata": {},
   "outputs": [
    {
     "data": {
      "text/plain": [
       "(300, 32)"
      ]
     },
     "execution_count": 17,
     "metadata": {},
     "output_type": "execute_result"
    }
   ],
   "source": [
    "train_data.shape"
   ]
  },
  {
   "cell_type": "markdown",
   "metadata": {},
   "source": [
    "# Applying scaler"
   ]
  },
  {
   "cell_type": "code",
   "execution_count": 210,
   "metadata": {},
   "outputs": [
    {
     "name": "stdout",
     "output_type": "stream",
     "text": [
      "<class 'pandas.core.frame.DataFrame'>\n",
      "Int64Index: 300 entries, 121 to 68\n",
      "Data columns (total 31 columns):\n",
      "anaemia                              300 non-null int64\n",
      "diabetes                             300 non-null int64\n",
      "ejection_fraction                    300 non-null int64\n",
      "high_blood_pressure                  300 non-null int64\n",
      "serum_sodium                         300 non-null int64\n",
      "sex                                  300 non-null int64\n",
      "smoking                              300 non-null int64\n",
      "time                                 300 non-null int64\n",
      "age_kid                              300 non-null uint8\n",
      "age_teen                             300 non-null uint8\n",
      "age_young                            300 non-null uint8\n",
      "age_midage                           300 non-null uint8\n",
      "age_upperage                         300 non-null uint8\n",
      "age_senior                           300 non-null uint8\n",
      "age_old                              300 non-null uint8\n",
      "age_veryold                          300 non-null uint8\n",
      "creatinine_phosphokinase_verylow     300 non-null uint8\n",
      "creatinine_phosphokinase_low         300 non-null uint8\n",
      "creatinine_phosphokinase_med         300 non-null uint8\n",
      "creatinine_phosphokinase_high        300 non-null uint8\n",
      "creatinine_phosphokinase_veryhigh    300 non-null uint8\n",
      "platelets_verylow                    300 non-null uint8\n",
      "platelets_low                        300 non-null uint8\n",
      "platelets_med                        300 non-null uint8\n",
      "platelets_high                       300 non-null uint8\n",
      "platelets_veryhigh                   300 non-null uint8\n",
      "serum_creatinine_verylow             300 non-null uint8\n",
      "serum_creatinine_low                 300 non-null uint8\n",
      "serum_creatinine_med                 300 non-null uint8\n",
      "serum_creatinine_high                300 non-null uint8\n",
      "serum_creatinine_veryhigh            300 non-null uint8\n",
      "dtypes: int64(8), uint8(23)\n",
      "memory usage: 27.8 KB\n",
      "None\n",
      "[  1.   1.  65.   1. 148.   1.   1. 285.   0.   0.   0.   1.   1.   1.\n",
      "   1.   1.   1.   1.   1.   1.   1.   1.   1.   1.   1.   1.   1.   1.\n",
      "   1.   1.   1.]\n"
     ]
    },
    {
     "data": {
      "text/html": [
       "<div>\n",
       "<style scoped>\n",
       "    .dataframe tbody tr th:only-of-type {\n",
       "        vertical-align: middle;\n",
       "    }\n",
       "\n",
       "    .dataframe tbody tr th {\n",
       "        vertical-align: top;\n",
       "    }\n",
       "\n",
       "    .dataframe thead th {\n",
       "        text-align: right;\n",
       "    }\n",
       "</style>\n",
       "<table border=\"1\" class=\"dataframe\">\n",
       "  <thead>\n",
       "    <tr style=\"text-align: right;\">\n",
       "      <th></th>\n",
       "      <th>anaemia</th>\n",
       "      <th>diabetes</th>\n",
       "      <th>ejection_fraction</th>\n",
       "      <th>high_blood_pressure</th>\n",
       "      <th>serum_sodium</th>\n",
       "      <th>sex</th>\n",
       "      <th>smoking</th>\n",
       "      <th>time</th>\n",
       "      <th>age_kid</th>\n",
       "      <th>age_teen</th>\n",
       "      <th>...</th>\n",
       "      <th>platelets_verylow</th>\n",
       "      <th>platelets_low</th>\n",
       "      <th>platelets_med</th>\n",
       "      <th>platelets_high</th>\n",
       "      <th>platelets_veryhigh</th>\n",
       "      <th>serum_creatinine_verylow</th>\n",
       "      <th>serum_creatinine_low</th>\n",
       "      <th>serum_creatinine_med</th>\n",
       "      <th>serum_creatinine_high</th>\n",
       "      <th>serum_creatinine_veryhigh</th>\n",
       "    </tr>\n",
       "  </thead>\n",
       "  <tbody>\n",
       "    <tr>\n",
       "      <th>121</th>\n",
       "      <td>1</td>\n",
       "      <td>1</td>\n",
       "      <td>38</td>\n",
       "      <td>1</td>\n",
       "      <td>136</td>\n",
       "      <td>0</td>\n",
       "      <td>0</td>\n",
       "      <td>95</td>\n",
       "      <td>0</td>\n",
       "      <td>0</td>\n",
       "      <td>...</td>\n",
       "      <td>1</td>\n",
       "      <td>0</td>\n",
       "      <td>0</td>\n",
       "      <td>0</td>\n",
       "      <td>0</td>\n",
       "      <td>0</td>\n",
       "      <td>1</td>\n",
       "      <td>0</td>\n",
       "      <td>0</td>\n",
       "      <td>0</td>\n",
       "    </tr>\n",
       "    <tr>\n",
       "      <th>68</th>\n",
       "      <td>0</td>\n",
       "      <td>0</td>\n",
       "      <td>25</td>\n",
       "      <td>0</td>\n",
       "      <td>142</td>\n",
       "      <td>0</td>\n",
       "      <td>0</td>\n",
       "      <td>66</td>\n",
       "      <td>0</td>\n",
       "      <td>0</td>\n",
       "      <td>...</td>\n",
       "      <td>0</td>\n",
       "      <td>0</td>\n",
       "      <td>1</td>\n",
       "      <td>0</td>\n",
       "      <td>0</td>\n",
       "      <td>0</td>\n",
       "      <td>0</td>\n",
       "      <td>0</td>\n",
       "      <td>1</td>\n",
       "      <td>0</td>\n",
       "    </tr>\n",
       "    <tr>\n",
       "      <th>106</th>\n",
       "      <td>0</td>\n",
       "      <td>0</td>\n",
       "      <td>45</td>\n",
       "      <td>0</td>\n",
       "      <td>137</td>\n",
       "      <td>1</td>\n",
       "      <td>0</td>\n",
       "      <td>88</td>\n",
       "      <td>0</td>\n",
       "      <td>0</td>\n",
       "      <td>...</td>\n",
       "      <td>0</td>\n",
       "      <td>0</td>\n",
       "      <td>1</td>\n",
       "      <td>0</td>\n",
       "      <td>0</td>\n",
       "      <td>0</td>\n",
       "      <td>0</td>\n",
       "      <td>0</td>\n",
       "      <td>1</td>\n",
       "      <td>0</td>\n",
       "    </tr>\n",
       "    <tr>\n",
       "      <th>36</th>\n",
       "      <td>1</td>\n",
       "      <td>1</td>\n",
       "      <td>50</td>\n",
       "      <td>0</td>\n",
       "      <td>134</td>\n",
       "      <td>1</td>\n",
       "      <td>0</td>\n",
       "      <td>30</td>\n",
       "      <td>0</td>\n",
       "      <td>0</td>\n",
       "      <td>...</td>\n",
       "      <td>0</td>\n",
       "      <td>1</td>\n",
       "      <td>0</td>\n",
       "      <td>0</td>\n",
       "      <td>0</td>\n",
       "      <td>0</td>\n",
       "      <td>1</td>\n",
       "      <td>0</td>\n",
       "      <td>0</td>\n",
       "      <td>0</td>\n",
       "    </tr>\n",
       "    <tr>\n",
       "      <th>243</th>\n",
       "      <td>1</td>\n",
       "      <td>0</td>\n",
       "      <td>40</td>\n",
       "      <td>1</td>\n",
       "      <td>141</td>\n",
       "      <td>0</td>\n",
       "      <td>0</td>\n",
       "      <td>213</td>\n",
       "      <td>0</td>\n",
       "      <td>0</td>\n",
       "      <td>...</td>\n",
       "      <td>0</td>\n",
       "      <td>1</td>\n",
       "      <td>0</td>\n",
       "      <td>0</td>\n",
       "      <td>0</td>\n",
       "      <td>1</td>\n",
       "      <td>0</td>\n",
       "      <td>0</td>\n",
       "      <td>0</td>\n",
       "      <td>0</td>\n",
       "    </tr>\n",
       "  </tbody>\n",
       "</table>\n",
       "<p>5 rows × 31 columns</p>\n",
       "</div>"
      ],
      "text/plain": [
       "     anaemia  diabetes  ejection_fraction  high_blood_pressure  serum_sodium  \\\n",
       "121        1         1                 38                    1           136   \n",
       "68         0         0                 25                    0           142   \n",
       "106        0         0                 45                    0           137   \n",
       "36         1         1                 50                    0           134   \n",
       "243        1         0                 40                    1           141   \n",
       "\n",
       "     sex  smoking  time  age_kid  age_teen            ...              \\\n",
       "121    0        0    95        0         0            ...               \n",
       "68     0        0    66        0         0            ...               \n",
       "106    1        0    88        0         0            ...               \n",
       "36     1        0    30        0         0            ...               \n",
       "243    0        0   213        0         0            ...               \n",
       "\n",
       "     platelets_verylow  platelets_low  platelets_med  platelets_high  \\\n",
       "121                  1              0              0               0   \n",
       "68                   0              0              1               0   \n",
       "106                  0              0              1               0   \n",
       "36                   0              1              0               0   \n",
       "243                  0              1              0               0   \n",
       "\n",
       "     platelets_veryhigh  serum_creatinine_verylow  serum_creatinine_low  \\\n",
       "121                   0                         0                     1   \n",
       "68                    0                         0                     0   \n",
       "106                   0                         0                     0   \n",
       "36                    0                         0                     1   \n",
       "243                   0                         1                     0   \n",
       "\n",
       "     serum_creatinine_med  serum_creatinine_high  serum_creatinine_veryhigh  \n",
       "121                     0                      0                          0  \n",
       "68                      0                      1                          0  \n",
       "106                     0                      1                          0  \n",
       "36                      0                      0                          0  \n",
       "243                     0                      0                          0  \n",
       "\n",
       "[5 rows x 31 columns]"
      ]
     },
     "execution_count": 210,
     "metadata": {},
     "output_type": "execute_result"
    }
   ],
   "source": [
    "from sklearn.preprocessing import MinMaxScaler\n",
    "\n",
    "final_model_features = train_data.iloc[0:1,0:31].columns\n",
    "#print(\"final model features\", final_model_features)\n",
    "\n",
    "X_train = train_data[final_model_features]\n",
    "print(X_train.info())\n",
    "y_train = train_data[model_target]\n",
    "scaler = MinMaxScaler()\n",
    "scaler.fit(X_train)\n",
    "scaler.transform(X_train)\n",
    "print(scaler.data_max_)\n",
    "X_train.head()"
   ]
  },
  {
   "cell_type": "markdown",
   "metadata": {},
   "source": [
    "# Train KNN classifier - w/o pipeline"
   ]
  },
  {
   "cell_type": "code",
   "execution_count": 303,
   "metadata": {},
   "outputs": [
    {
     "data": {
      "text/plain": [
       "KNeighborsClassifier(algorithm='auto', leaf_size=30, metric='manhattan',\n",
       "           metric_params=None, n_jobs=1, n_neighbors=5, p=2,\n",
       "           weights='uniform')"
      ]
     },
     "execution_count": 303,
     "metadata": {},
     "output_type": "execute_result"
    }
   ],
   "source": [
    "from sklearn.neighbors import KNeighborsClassifier\n",
    "\n",
    "classifier = KNeighborsClassifier(n_neighbors=5,metric=\"manhattan\")\n",
    "classifier.fit(X_train,y_train)"
   ]
  },
  {
   "cell_type": "markdown",
   "metadata": {},
   "source": [
    "# use Pipeline for prediction"
   ]
  },
  {
   "cell_type": "code",
   "execution_count": 18,
   "metadata": {},
   "outputs": [
    {
     "name": "stdout",
     "output_type": "stream",
     "text": [
      "size_train (300, 31)\n",
      "size_test (23, 31)\n"
     ]
    }
   ],
   "source": [
    "#use pipeline classsifier\n",
    "final_model_features = train_data.iloc[0:1,0:31].columns\n",
    "X_train = train_data[final_model_features]\n",
    "y_train = train_data[model_target]\n",
    "\n",
    "X_test = test_data[final_model_features]\n",
    "y_test = test_data[model_target]\n",
    "\n",
    "print(\"size_train\",X_train.shape)\n",
    "print(\"size_test\",X_test.shape)"
   ]
  },
  {
   "cell_type": "code",
   "execution_count": null,
   "metadata": {},
   "outputs": [],
   "source": [
    "from sklearn.pipeline import Pipeline\n",
    "from sklearn.impute import SimpleImputer\n",
    "from sklearn.preprocessing import MinMaxScaler\n",
    "from sklearn.neighbors import KNeighborsClassifier\n",
    "\n",
    "#pass K values a sqrt of n samples\n",
    "\n",
    "classifier = Pipeline([('imputer',SimpleImputer(strategy='mean')),\n",
    "    ('estimator',KNeighborsClassifier(n_neighbors=10,metric=\"manhattan\"))   \n",
    "])\n",
    "\n",
    "#visualize pipeline\n",
    "#from sklearn import set_config\n",
    "#set_config(display='text')\n",
    "classifier"
   ]
  },
  {
   "cell_type": "markdown",
   "metadata": {},
   "source": [
    "# Train Pipeline clasiifier"
   ]
  },
  {
   "cell_type": "code",
   "execution_count": 324,
   "metadata": {},
   "outputs": [
    {
     "data": {
      "text/plain": [
       "Pipeline(memory=None,\n",
       "     steps=[('imputer', Imputer(axis=0, copy=True, missing_values='NaN', strategy='mean', verbose=0)), ('estimator', KNeighborsClassifier(algorithm='auto', leaf_size=30, metric='manhattan',\n",
       "           metric_params=None, n_jobs=1, n_neighbors=10, p=2,\n",
       "           weights='uniform'))])"
      ]
     },
     "execution_count": 324,
     "metadata": {},
     "output_type": "execute_result"
    }
   ],
   "source": [
    "classifier.fit(X_train,y_train)"
   ]
  },
  {
   "cell_type": "markdown",
   "metadata": {},
   "source": [
    "# Predict and score"
   ]
  },
  {
   "cell_type": "code",
   "execution_count": 325,
   "metadata": {},
   "outputs": [],
   "source": [
    "from sklearn.metrics import confusion_matrix, classification_report, f1_score, accuracy_score\n",
    "\n",
    "#predict\n",
    "train_prediction = classifier.predict(X_train)"
   ]
  },
  {
   "cell_type": "code",
   "execution_count": 326,
   "metadata": {},
   "outputs": [
    {
     "name": "stdout",
     "output_type": "stream",
     "text": [
      "Model perforfance  [[139  11]\n",
      " [ 13 137]]\n",
      "             precision    recall  f1-score   support\n",
      "\n",
      "          0       0.91      0.93      0.92       150\n",
      "          1       0.93      0.91      0.92       150\n",
      "\n",
      "avg / total       0.92      0.92      0.92       300\n",
      "\n",
      "Model accuracy:  0.92\n"
     ]
    }
   ],
   "source": [
    "#Model perforfance and report for Train data\n",
    "print(\"Model perforfance \", confusion_matrix(y_train,train_prediction),end=\"\\n\")\n",
    "print(classification_report(y_train,train_prediction),end=\"\\n\")\n",
    "print(\"Model accuracy: \",accuracy_score(y_train,train_prediction),end=\"\\n\")"
   ]
  },
  {
   "cell_type": "code",
   "execution_count": 327,
   "metadata": {},
   "outputs": [
    {
     "name": "stdout",
     "output_type": "stream",
     "text": [
      "Model perforfance  [[13  0]\n",
      " [ 4  6]]\n",
      "             precision    recall  f1-score   support\n",
      "\n",
      "          0       0.76      1.00      0.87        13\n",
      "          1       1.00      0.60      0.75        10\n",
      "\n",
      "avg / total       0.87      0.83      0.82        23\n",
      "\n",
      "Model accuracy:  0.8260869565217391\n"
     ]
    }
   ],
   "source": [
    "#Model performance for Test data\n",
    "X_test = test_data[final_model_features]\n",
    "y_test=test_data[model_target]\n",
    "test_prediction = classifier.predict(X_test)\n",
    "\n",
    "print(\"Model perforfance \", confusion_matrix(y_test,test_prediction),end=\"\\n\")\n",
    "print(classification_report(y_test,test_prediction),end=\"\\n\")\n",
    "print(\"Model accuracy: \",accuracy_score(y_test,test_prediction),end=\"\\n\")"
   ]
  },
  {
   "cell_type": "code",
   "execution_count": null,
   "metadata": {},
   "outputs": [],
   "source": []
  },
  {
   "cell_type": "code",
   "execution_count": null,
   "metadata": {},
   "outputs": [],
   "source": []
  }
 ],
 "metadata": {
  "kernelspec": {
   "display_name": "Python 3",
   "language": "python",
   "name": "python3"
  },
  "language_info": {
   "codemirror_mode": {
    "name": "ipython",
    "version": 3
   },
   "file_extension": ".py",
   "mimetype": "text/x-python",
   "name": "python",
   "nbconvert_exporter": "python",
   "pygments_lexer": "ipython3",
   "version": "3.6.5"
  }
 },
 "nbformat": 4,
 "nbformat_minor": 2
}
