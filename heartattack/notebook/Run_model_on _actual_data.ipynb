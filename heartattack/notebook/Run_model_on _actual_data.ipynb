{
 "cells": [
  {
   "cell_type": "code",
   "execution_count": 7,
   "metadata": {},
   "outputs": [],
   "source": [
    "import pickle\n",
    "import os\n",
    "import pandas as pd\n",
    "import json\n",
    "import sys\n",
    "\n",
    "homedir = os.path.pardir\n",
    "trained_model_path = os.path.join(os.path.pardir,\"models\",\"knn_model.pickle\")\n",
    "to_predict_dataset = os.path.join(os.path.pardir,\"data\",\"raw\", \"sushmita.csv\")\n",
    "numerical_imputed_json_path = os.path.join(os.path.pardir,\"static_data\",\"numeric_imputed_values.json\")\n",
    "categorical_imputed_json_path = os.path.join(os.path.pardir,\"static_data\",\"categorical_imputed_values.json\")\n",
    "prediction_path = os.path.join(os.path.pardir,\"data\",\"predictions\", \"prediction.csv\")\n",
    "\n",
    "sys.path.append(homedir)"
   ]
  },
  {
   "cell_type": "code",
   "execution_count": 8,
   "metadata": {},
   "outputs": [],
   "source": [
    "from models.model_functions import *\n",
    "\n",
    "#df = pd.read_csv(to_predict_dataset)\n",
    "df = check_size_prep_test(to_predict_dataset)\n",
    "\n",
    "numerical_features_all, categorical_features_all, model_target = identify_model_features(df)\n",
    "\n",
    "#removing outliers\n",
    "if len(numerical_features_all) > 0:\n",
    "    df = drop_outliers(df,numerical_features_all)\n",
    "    #Impute numerical feature missing with mean value\n",
    "    df_imputed = impute_numerical_features(df,numerical_features_all,numerical_imputed_json_path)\n",
    "\n",
    "#Impute categorical feature missing with Mode (most frequent) value\n",
    "if len(categorical_features_all) > 0:\n",
    "    df_imputed = impute_categorical_features(df_imputed,categorical_features_all,categorical_imputed_json_path)\n",
    "#Feature encoding\n",
    "df_encoded = feature_encoding(df_imputed,model_target)\n",
    "\n",
    "final_model_features = df_encoded.iloc[0:1,0:30].columns"
   ]
  },
  {
   "cell_type": "code",
   "execution_count": 9,
   "metadata": {},
   "outputs": [],
   "source": [
    "with open(trained_model_path,\"rb\") as knn_model_fileobj:\n",
    "    knn_clf = pickle.load(knn_model_fileobj)"
   ]
  },
  {
   "cell_type": "code",
   "execution_count": 10,
   "metadata": {},
   "outputs": [],
   "source": [
    "X_test = df_encoded[final_model_features]"
   ]
  },
  {
   "cell_type": "code",
   "execution_count": 11,
   "metadata": {},
   "outputs": [],
   "source": [
    "y_predictions = knn_clf.predict(X_test)"
   ]
  },
  {
   "cell_type": "code",
   "execution_count": 12,
   "metadata": {},
   "outputs": [],
   "source": [
    "pd.DataFrame(y_predictions).to_csv(prediction_path,header=True,index=False)"
   ]
  },
  {
   "cell_type": "code",
   "execution_count": null,
   "metadata": {},
   "outputs": [],
   "source": []
  }
 ],
 "metadata": {
  "kernelspec": {
   "display_name": "Python 3",
   "language": "python",
   "name": "python3"
  },
  "language_info": {
   "codemirror_mode": {
    "name": "ipython",
    "version": 3
   },
   "file_extension": ".py",
   "mimetype": "text/x-python",
   "name": "python",
   "nbconvert_exporter": "python",
   "pygments_lexer": "ipython3",
   "version": "3.6.5"
  }
 },
 "nbformat": 4,
 "nbformat_minor": 2
}
