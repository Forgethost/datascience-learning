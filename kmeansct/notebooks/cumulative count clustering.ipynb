{
 "cells": [
  {
   "cell_type": "code",
   "execution_count": 1,
   "metadata": {},
   "outputs": [],
   "source": [
    "from io import BytesIO\n",
    "from PyPDF2 import PdfFileReader\n",
    "import requests\n",
    "import re\n",
    "import pandas as pd\n",
    "from datetime import datetime as dt\n",
    "import datetime\n",
    "import os"
   ]
  },
  {
   "cell_type": "code",
   "execution_count": 2,
   "metadata": {},
   "outputs": [],
   "source": [
    "#import kmeansct\n",
    "\n",
    "raw_data_path = os.path.join(os.path.pardir,\"data\",\"raw\",\"CaseCountData_texas.csv\")\n",
    "zip_data_path = os.path.join(os.path.pardir,\"data\",\"raw\",\"zipMap.csv\")\n",
    "raw_data_path_daily_rate = os.path.join(os.path.pardir,\"data\",\"raw\",\"case_counts_daily_rate.csv\")\n",
    "predictions_data_band = os.path.join(os.path.pardir,\"data\",\"processed\",\"predictions\",\"predictions_bands.csv\")\n",
    "predictions_data_path_zip = os.path.join(os.path.pardir,\"data\",\"processed\",\"predictions\",\"predictions_daily_rate_zip.csv\")\n",
    "predictions_data_path = os.path.join(os.path.pardir,\"data\",\"processed\",\"predictions\",\"predictions_tx.csv\")\n",
    "predictions_data_path_cumulative = os.path.join(os.path.pardir,\"data\",\"processed\",\"predictions\",\"predictions_cumulative.csv\")\n",
    "predictions_data_path_daily_rate = os.path.join(os.path.pardir,\"data\",\"processed\",\"predictions\",\"predictions_daily_rate_1d.csv\")"
   ]
  },
  {
   "cell_type": "code",
   "execution_count": 3,
   "metadata": {},
   "outputs": [],
   "source": [
    "def get_cumulative_count_pdf_date():\n",
    "    today_weekday = dt.weekday(dt.today())\n",
    "\n",
    "    if (today_weekday > 0) and (today_weekday < 6):\n",
    "        pdf_extract_day = -1\n",
    "    elif today_weekday == 0:\n",
    "        pdf_extract_day = -3\n",
    "    elif today_weekday == 6:\n",
    "        pdf_extract_day = -2\n",
    "    else:\n",
    "        raise Exception(\"Weekday out of range :{}\".format(today_weekday))\n",
    "\n",
    "    pdf_date = dt.today() + datetime.timedelta(days=pdf_extract_day)\n",
    "    pdf_date_str = dt.strftime(pdf_date, \"%m%d%Y\")[1:]\n",
    "\n",
    "    return pdf_date_str"
   ]
  },
  {
   "cell_type": "code",
   "execution_count": 4,
   "metadata": {},
   "outputs": [
    {
     "data": {
      "text/plain": [
       "'9222020'"
      ]
     },
     "execution_count": 4,
     "metadata": {},
     "output_type": "execute_result"
    }
   ],
   "source": [
    "get_cumulative_count_pdf_date()"
   ]
  },
  {
   "cell_type": "code",
   "execution_count": 5,
   "metadata": {},
   "outputs": [],
   "source": [
    "def ct_cumulative_counts():\n",
    "    data_list=[]\n",
    "    #today = datetime.strftime(datetime.today(),\"%m%d%Y\")[1:]\n",
    "    today = get_cumulative_count_pdf_date()\n",
    "    print(today)\n",
    "    #url=\"https://portal.ct.gov/-/media/Coronavirus/CTDPHCOVID19summary9112020.pdf\"\n",
    "    url=\"https://portal.ct.gov/-/media/Coronavirus/CTDPHCOVID19summary{}.pdf\".format(today)\n",
    "    print(url)\n",
    "    ###########################################\n",
    "    #uncomment  below lines for today's gove data\n",
    "    pdf_data = requests.get(url)\n",
    "    pdf_content = BytesIO(pdf_data.content)\n",
    "    reader = PdfFileReader(pdf_content)\n",
    "    ###################################\n",
    "    #REmove below 2 lines for actual today's gov data\"\n",
    "    #pdffile=open(r\"c:\\users\\babub\\downloads\\CTDPHCOVID19summary9112020.pdf\",\"rb\")\n",
    "    #reader = PdfFileReader(pdffile)\n",
    "    ###############################################\n",
    "    for eachpage in range (4,5):\n",
    "        try:\n",
    "            case_count_page = reader.getPage(eachpage).extractText()\n",
    "            if len(re.findall(\"Cumulative Number of COVID\",case_count_page)) > 0:\n",
    "                case_counts = re.findall(\"Andover[\\s\\S]+Preston\",case_count_page)[0]\n",
    "                #city_counts = re.findall(\"\\S+[\\n ]+[\\n]+\\S+[\\n ]+[\\n]+\\S+[\\n ]+[\\n]+\",case_counts)\n",
    "                city_counts = re.findall(\"\\S+?\\s*\\S*[\\n ]+[\\n]+\\S+[\\n ]+[\\n]+\\S+[\\n ]+[\\n]+\",case_counts)\n",
    "                for each_city in city_counts:\n",
    "                    try:\n",
    "                        int(re.split(\"[\\n ]+[\\n]+\",each_city)[1])\n",
    "                        data_list.append(re.split(\"[\\n ]+[\\n]+\",each_city)[0:3])\n",
    "                    except:\n",
    "                        pass\n",
    "                \n",
    "                df =pd.DataFrame(data_list,columns=[\"city\",\"case_counts\",\"probable_counts\"])\n",
    "                df.to_csv(raw_data_path,header=True,index=None)\n",
    "        except Exception as e:\n",
    "            print(\"Exception occurred\",e)"
   ]
  },
  {
   "cell_type": "code",
   "execution_count": 6,
   "metadata": {},
   "outputs": [
    {
     "name": "stdout",
     "output_type": "stream",
     "text": [
      "9222020\n",
      "https://portal.ct.gov/-/media/Coronavirus/CTDPHCOVID19summary9222020.pdf\n"
     ]
    }
   ],
   "source": [
    "ct_cumulative_counts()"
   ]
  },
  {
   "cell_type": "code",
   "execution_count": 7,
   "metadata": {},
   "outputs": [],
   "source": [
    "df = pd.read_csv(raw_data_path)"
   ]
  },
  {
   "cell_type": "code",
   "execution_count": 8,
   "metadata": {},
   "outputs": [
    {
     "name": "stdout",
     "output_type": "stream",
     "text": [
      "<class 'pandas.core.frame.DataFrame'>\n",
      "RangeIndex: 166 entries, 0 to 165\n",
      "Data columns (total 3 columns):\n",
      "city               166 non-null object\n",
      "case_counts        166 non-null int64\n",
      "probable_counts    166 non-null int64\n",
      "dtypes: int64(2), object(1)\n",
      "memory usage: 4.0+ KB\n"
     ]
    }
   ],
   "source": [
    "df.info()"
   ]
  },
  {
   "cell_type": "code",
   "execution_count": 9,
   "metadata": {},
   "outputs": [
    {
     "name": "stdout",
     "output_type": "stream",
     "text": [
      "   case_counts\n",
      "0           10\n",
      "1           52\n",
      "2           78\n",
      "3          307\n",
      "4          190\n"
     ]
    }
   ],
   "source": [
    "X_data = df.loc[0:,['case_counts']]\n",
    "print(X_data.head())"
   ]
  },
  {
   "cell_type": "code",
   "execution_count": 10,
   "metadata": {},
   "outputs": [],
   "source": [
    "from sklearn.cluster import KMeans\n",
    "\n",
    "#WCSS within cluster sum of squares - sum of the distances of observation from cluster centroids. We will use this to find elbow point\n",
    "wcss=[]"
   ]
  },
  {
   "cell_type": "code",
   "execution_count": 11,
   "metadata": {},
   "outputs": [
    {
     "name": "stdout",
     "output_type": "stream",
     "text": [
      "10\n",
      "[67133011.95783134, 14649341.311769987, 5886794.815005138, 3873875.581481478, 2373501.5648754933, 1582072.01937291, 990809.1918174183, 703935.4110265269, 553574.2443598602, 413593.4431372547]\n"
     ]
    }
   ],
   "source": [
    "#loop and fit KMeans multiple times to calculate WCSS for each pass of k value\n",
    "for i in range(1,11):\n",
    "    clf = KMeans(n_clusters=i, init='k-means++',max_iter=1000,n_init=10)\n",
    "    \n",
    "    clf.fit(X_data)\n",
    "    wcss.append(clf.inertia_)\n",
    "print(len(wcss))\n",
    "print(wcss)"
   ]
  },
  {
   "cell_type": "code",
   "execution_count": 12,
   "metadata": {},
   "outputs": [
    {
     "data": {
      "image/png": "[encoded data removed]",
      "text/plain": [
       "<Figure size 432x288 with 1 Axes>"
      ]
     },
     "metadata": {},
     "output_type": "display_data"
    }
   ],
   "source": [
    "#plot the elbow graph\n",
    "import matplotlib.pyplot as plt\n",
    "%matplotlib inline\n",
    "plt.plot(range(1,11),wcss)\n",
    "plt.xlabel('Number of clusters')\n",
    "plt.ylabel('WCSS')\n",
    "plt.show()"
   ]
  },
  {
   "cell_type": "code",
   "execution_count": 18,
   "metadata": {},
   "outputs": [],
   "source": [
    "#scaling\n",
    "from sklearn.preprocessing import StandardScaler\n",
    "scaler = StandardScaler()\n",
    "X_data = scaler.fit_transform(X_data)"
   ]
  },
  {
   "cell_type": "code",
   "execution_count": 19,
   "metadata": {},
   "outputs": [
    {
     "data": {
      "image/png": "[encoded data removed]",
      "text/plain": [
       "<Figure size 576x396 with 1 Axes>"
      ]
     },
     "metadata": {},
     "output_type": "display_data"
    },
    {
     "data": {
      "text/plain": [
       "<matplotlib.axes._subplots.AxesSubplot at 0x217da8eb710>"
      ]
     },
     "execution_count": 19,
     "metadata": {},
     "output_type": "execute_result"
    }
   ],
   "source": [
    "# Import ElbowVisualizer\n",
    "from yellowbrick.cluster import KElbowVisualizer\n",
    "model = KMeans()\n",
    "# k is range of number of clusters.\n",
    "visualizer = KElbowVisualizer(model, k=(3,12), timings=False)\n",
    "visualizer.fit(X_data)        # Fit the data to the visualizer\n",
    "visualizer.show()        # Finalize and render the figure"
   ]
  },
  {
   "cell_type": "code",
   "execution_count": 14,
   "metadata": {},
   "outputs": [
    {
     "name": "stdout",
     "output_type": "stream",
     "text": [
      "     centroids\n",
      "0    47.677083\n",
      "1  1103.000000\n",
      "2  2659.400000\n",
      "3   673.000000\n",
      "4  3860.000000\n",
      "5   267.139535\n"
     ]
    }
   ],
   "source": [
    "#as per above fig it should be k=3\n",
    "clf = KMeans(n_clusters=6, init='k-means++',max_iter=1000,n_init=10,random_state=0)\n",
    "kmeans = clf.fit(X_data)\n",
    "centers = pd.DataFrame(clf.cluster_centers_,columns=['centroids'])\n",
    "print(centers)\n",
    "Y_data = kmeans.predict(X_data)"
   ]
  },
  {
   "cell_type": "code",
   "execution_count": 17,
   "metadata": {},
   "outputs": [
    {
     "name": "stdout",
     "output_type": "stream",
     "text": [
      "       city  case_counts  probable_counts\n",
      "0   Andover           10                0\n",
      "1  Griswold           52                2\n",
      "2  Prospect           78                0\n",
      "3   Ansonia          307                8\n",
      "4    Groton          190               15\n",
      "[0 0 0 5 5 0 0 0 0 5 0 5 0 1 5 0 0 0 5 2 0 0 0 0 5 0 0 0 0 5 3 0 0 0 0 3 0\n",
      " 0 0 5 0 0 4 0 5 0 0 5 3 0 5 5 0 5 5 5 0 0 3 0 0 5 4 0 0 0 0 1 0 0 0 1 5 0\n",
      " 5 0 3 0 0 3 0 0 0 0 0 5 3 0 0 3 0 5 0 0 1 5 0 5 0 2 0 3 5 0 0 0 2 0 5 5 2\n",
      " 0 5 5 0 5 5 0 5 3 0 0 1 1 0 0 5 0 0 5 5 5 5 0 5 0 2 0 0 5 5 0 3 0 5 0 0 3\n",
      " 3 0 0 5 0 0 0 5 0 5 0 0 0 0 0 0 0 1]\n"
     ]
    }
   ],
   "source": [
    "print(df.head())\n",
    "print(clf.labels_)"
   ]
  },
  {
   "cell_type": "code",
   "execution_count": 25,
   "metadata": {},
   "outputs": [
    {
     "name": "stdout",
     "output_type": "stream",
     "text": [
      "     centroids  group_rank  group\n",
      "0    47.677083         1.0      0\n",
      "1  1103.000000         4.0      1\n",
      "2  2659.400000         5.0      2\n",
      "3   673.000000         3.0      3\n",
      "4  3860.000000         6.0      4\n",
      "5   267.139535         2.0      5\n"
     ]
    }
   ],
   "source": [
    "#rank centroids df\n",
    "centers['group_rank'] = centers['centroids'].rank(ascending=True)\n",
    "centers['group'] = pd.Series(centers.index.tolist())\n",
    "print(centers)"
   ]
  },
  {
   "cell_type": "code",
   "execution_count": 27,
   "metadata": {},
   "outputs": [
    {
     "name": "stdout",
     "output_type": "stream",
     "text": [
      "     group\n",
      "0        0\n",
      "1        0\n",
      "2        0\n",
      "3        5\n",
      "4        5\n",
      "5        0\n",
      "6        0\n",
      "7        0\n",
      "8        0\n",
      "9        5\n",
      "10       0\n",
      "11       5\n",
      "12       0\n",
      "13       1\n",
      "14       5\n",
      "15       0\n",
      "16       0\n",
      "17       0\n",
      "18       5\n",
      "19       2\n",
      "20       0\n",
      "21       0\n",
      "22       0\n",
      "23       0\n",
      "24       5\n",
      "25       0\n",
      "26       0\n",
      "27       0\n",
      "28       0\n",
      "29       5\n",
      "..     ...\n",
      "136      2\n",
      "137      0\n",
      "138      0\n",
      "139      5\n",
      "140      5\n",
      "141      0\n",
      "142      3\n",
      "143      0\n",
      "144      5\n",
      "145      0\n",
      "146      0\n",
      "147      3\n",
      "148      3\n",
      "149      0\n",
      "150      0\n",
      "151      5\n",
      "152      0\n",
      "153      0\n",
      "154      0\n",
      "155      5\n",
      "156      0\n",
      "157      5\n",
      "158      0\n",
      "159      0\n",
      "160      0\n",
      "161      0\n",
      "162      0\n",
      "163      0\n",
      "164      0\n",
      "165      1\n",
      "\n",
      "[166 rows x 1 columns]\n"
     ]
    }
   ],
   "source": [
    "#predictions_data_path\n",
    "Y_df = pd.DataFrame(Y_data)\n",
    "Y_df.columns=[\"group\"]\n",
    "print(Y_df)"
   ]
  },
  {
   "cell_type": "code",
   "execution_count": 36,
   "metadata": {},
   "outputs": [],
   "source": [
    "predicted_df = pd.concat([df.iloc[0:,0:3],Y_df],axis=1)\n",
    "predicted_df = predicted_df.merge(centers,how='inner',left_on='group',right_on='group')\n",
    "predicted_df.insert(0,'state','CT')"
   ]
  },
  {
   "cell_type": "code",
   "execution_count": 37,
   "metadata": {},
   "outputs": [
    {
     "data": {
      "text/html": [
       "<div>\n",
       "<style scoped>\n",
       "    .dataframe tbody tr th:only-of-type {\n",
       "        vertical-align: middle;\n",
       "    }\n",
       "\n",
       "    .dataframe tbody tr th {\n",
       "        vertical-align: top;\n",
       "    }\n",
       "\n",
       "    .dataframe thead th {\n",
       "        text-align: right;\n",
       "    }\n",
       "</style>\n",
       "<table border=\"1\" class=\"dataframe\">\n",
       "  <thead>\n",
       "    <tr style=\"text-align: right;\">\n",
       "      <th></th>\n",
       "      <th>state</th>\n",
       "      <th>city</th>\n",
       "      <th>case_counts</th>\n",
       "      <th>probable_counts</th>\n",
       "      <th>group</th>\n",
       "      <th>centroids</th>\n",
       "      <th>group_rank</th>\n",
       "    </tr>\n",
       "  </thead>\n",
       "  <tbody>\n",
       "    <tr>\n",
       "      <th>0</th>\n",
       "      <td>CT</td>\n",
       "      <td>Andover</td>\n",
       "      <td>10</td>\n",
       "      <td>0</td>\n",
       "      <td>0</td>\n",
       "      <td>47.677083</td>\n",
       "      <td>1.0</td>\n",
       "    </tr>\n",
       "    <tr>\n",
       "      <th>1</th>\n",
       "      <td>CT</td>\n",
       "      <td>Griswold</td>\n",
       "      <td>52</td>\n",
       "      <td>2</td>\n",
       "      <td>0</td>\n",
       "      <td>47.677083</td>\n",
       "      <td>1.0</td>\n",
       "    </tr>\n",
       "    <tr>\n",
       "      <th>2</th>\n",
       "      <td>CT</td>\n",
       "      <td>Prospect</td>\n",
       "      <td>78</td>\n",
       "      <td>0</td>\n",
       "      <td>0</td>\n",
       "      <td>47.677083</td>\n",
       "      <td>1.0</td>\n",
       "    </tr>\n",
       "    <tr>\n",
       "      <th>3</th>\n",
       "      <td>CT</td>\n",
       "      <td>Putnam</td>\n",
       "      <td>43</td>\n",
       "      <td>1</td>\n",
       "      <td>0</td>\n",
       "      <td>47.677083</td>\n",
       "      <td>1.0</td>\n",
       "    </tr>\n",
       "    <tr>\n",
       "      <th>4</th>\n",
       "      <td>CT</td>\n",
       "      <td>Ashford</td>\n",
       "      <td>24</td>\n",
       "      <td>1</td>\n",
       "      <td>0</td>\n",
       "      <td>47.677083</td>\n",
       "      <td>1.0</td>\n",
       "    </tr>\n",
       "    <tr>\n",
       "      <th>5</th>\n",
       "      <td>CT</td>\n",
       "      <td>Guilford</td>\n",
       "      <td>129</td>\n",
       "      <td>10</td>\n",
       "      <td>0</td>\n",
       "      <td>47.677083</td>\n",
       "      <td>1.0</td>\n",
       "    </tr>\n",
       "    <tr>\n",
       "      <th>6</th>\n",
       "      <td>CT</td>\n",
       "      <td>Redding</td>\n",
       "      <td>75</td>\n",
       "      <td>7</td>\n",
       "      <td>0</td>\n",
       "      <td>47.677083</td>\n",
       "      <td>1.0</td>\n",
       "    </tr>\n",
       "    <tr>\n",
       "      <th>7</th>\n",
       "      <td>CT</td>\n",
       "      <td>Haddam</td>\n",
       "      <td>47</td>\n",
       "      <td>1</td>\n",
       "      <td>0</td>\n",
       "      <td>47.677083</td>\n",
       "      <td>1.0</td>\n",
       "    </tr>\n",
       "    <tr>\n",
       "      <th>8</th>\n",
       "      <td>CT</td>\n",
       "      <td>Barkhamsted</td>\n",
       "      <td>31</td>\n",
       "      <td>2</td>\n",
       "      <td>0</td>\n",
       "      <td>47.677083</td>\n",
       "      <td>1.0</td>\n",
       "    </tr>\n",
       "    <tr>\n",
       "      <th>9</th>\n",
       "      <td>CT</td>\n",
       "      <td>Beacon Falls</td>\n",
       "      <td>62</td>\n",
       "      <td>0</td>\n",
       "      <td>0</td>\n",
       "      <td>47.677083</td>\n",
       "      <td>1.0</td>\n",
       "    </tr>\n",
       "    <tr>\n",
       "      <th>10</th>\n",
       "      <td>CT</td>\n",
       "      <td>Hampton</td>\n",
       "      <td>8</td>\n",
       "      <td>0</td>\n",
       "      <td>0</td>\n",
       "      <td>47.677083</td>\n",
       "      <td>1.0</td>\n",
       "    </tr>\n",
       "    <tr>\n",
       "      <th>11</th>\n",
       "      <td>CT</td>\n",
       "      <td>Roxbury</td>\n",
       "      <td>15</td>\n",
       "      <td>3</td>\n",
       "      <td>0</td>\n",
       "      <td>47.677083</td>\n",
       "      <td>1.0</td>\n",
       "    </tr>\n",
       "    <tr>\n",
       "      <th>12</th>\n",
       "      <td>CT</td>\n",
       "      <td>Salem</td>\n",
       "      <td>15</td>\n",
       "      <td>0</td>\n",
       "      <td>0</td>\n",
       "      <td>47.677083</td>\n",
       "      <td>1.0</td>\n",
       "    </tr>\n",
       "    <tr>\n",
       "      <th>13</th>\n",
       "      <td>CT</td>\n",
       "      <td>Bethany</td>\n",
       "      <td>46</td>\n",
       "      <td>1</td>\n",
       "      <td>0</td>\n",
       "      <td>47.677083</td>\n",
       "      <td>1.0</td>\n",
       "    </tr>\n",
       "    <tr>\n",
       "      <th>14</th>\n",
       "      <td>CT</td>\n",
       "      <td>Hartland</td>\n",
       "      <td>7</td>\n",
       "      <td>0</td>\n",
       "      <td>0</td>\n",
       "      <td>47.677083</td>\n",
       "      <td>1.0</td>\n",
       "    </tr>\n",
       "    <tr>\n",
       "      <th>15</th>\n",
       "      <td>CT</td>\n",
       "      <td>Salisbury</td>\n",
       "      <td>26</td>\n",
       "      <td>1</td>\n",
       "      <td>0</td>\n",
       "      <td>47.677083</td>\n",
       "      <td>1.0</td>\n",
       "    </tr>\n",
       "    <tr>\n",
       "      <th>16</th>\n",
       "      <td>CT</td>\n",
       "      <td>Harwinton</td>\n",
       "      <td>35</td>\n",
       "      <td>3</td>\n",
       "      <td>0</td>\n",
       "      <td>47.677083</td>\n",
       "      <td>1.0</td>\n",
       "    </tr>\n",
       "    <tr>\n",
       "      <th>17</th>\n",
       "      <td>CT</td>\n",
       "      <td>Scotland</td>\n",
       "      <td>0</td>\n",
       "      <td>0</td>\n",
       "      <td>0</td>\n",
       "      <td>47.677083</td>\n",
       "      <td>1.0</td>\n",
       "    </tr>\n",
       "    <tr>\n",
       "      <th>18</th>\n",
       "      <td>CT</td>\n",
       "      <td>Bethlehem</td>\n",
       "      <td>12</td>\n",
       "      <td>1</td>\n",
       "      <td>0</td>\n",
       "      <td>47.677083</td>\n",
       "      <td>1.0</td>\n",
       "    </tr>\n",
       "    <tr>\n",
       "      <th>19</th>\n",
       "      <td>CT</td>\n",
       "      <td>Hebron</td>\n",
       "      <td>37</td>\n",
       "      <td>2</td>\n",
       "      <td>0</td>\n",
       "      <td>47.677083</td>\n",
       "      <td>1.0</td>\n",
       "    </tr>\n",
       "  </tbody>\n",
       "</table>\n",
       "</div>"
      ],
      "text/plain": [
       "   state          city  case_counts  probable_counts  group  centroids  \\\n",
       "0     CT       Andover           10                0      0  47.677083   \n",
       "1     CT      Griswold           52                2      0  47.677083   \n",
       "2     CT      Prospect           78                0      0  47.677083   \n",
       "3     CT        Putnam           43                1      0  47.677083   \n",
       "4     CT       Ashford           24                1      0  47.677083   \n",
       "5     CT      Guilford          129               10      0  47.677083   \n",
       "6     CT       Redding           75                7      0  47.677083   \n",
       "7     CT        Haddam           47                1      0  47.677083   \n",
       "8     CT   Barkhamsted           31                2      0  47.677083   \n",
       "9     CT  Beacon Falls           62                0      0  47.677083   \n",
       "10    CT       Hampton            8                0      0  47.677083   \n",
       "11    CT       Roxbury           15                3      0  47.677083   \n",
       "12    CT         Salem           15                0      0  47.677083   \n",
       "13    CT       Bethany           46                1      0  47.677083   \n",
       "14    CT      Hartland            7                0      0  47.677083   \n",
       "15    CT     Salisbury           26                1      0  47.677083   \n",
       "16    CT     Harwinton           35                3      0  47.677083   \n",
       "17    CT      Scotland            0                0      0  47.677083   \n",
       "18    CT     Bethlehem           12                1      0  47.677083   \n",
       "19    CT        Hebron           37                2      0  47.677083   \n",
       "\n",
       "    group_rank  \n",
       "0          1.0  \n",
       "1          1.0  \n",
       "2          1.0  \n",
       "3          1.0  \n",
       "4          1.0  \n",
       "5          1.0  \n",
       "6          1.0  \n",
       "7          1.0  \n",
       "8          1.0  \n",
       "9          1.0  \n",
       "10         1.0  \n",
       "11         1.0  \n",
       "12         1.0  \n",
       "13         1.0  \n",
       "14         1.0  \n",
       "15         1.0  \n",
       "16         1.0  \n",
       "17         1.0  \n",
       "18         1.0  \n",
       "19         1.0  "
      ]
     },
     "execution_count": 37,
     "metadata": {},
     "output_type": "execute_result"
    }
   ],
   "source": [
    "predicted_df.head(20)"
   ]
  },
  {
   "cell_type": "code",
   "execution_count": 38,
   "metadata": {},
   "outputs": [],
   "source": [
    "predicted_df.to_csv(predictions_data_path_cumulative,index=None)"
   ]
  },
  {
   "cell_type": "code",
   "execution_count": 39,
   "metadata": {},
   "outputs": [
    {
     "data": {
      "image/png": "[encoded data removed]",
      "text/plain": [
       "<Figure size 576x396 with 1 Axes>"
      ]
     },
     "metadata": {},
     "output_type": "display_data"
    }
   ],
   "source": [
    "#plt.figure(figsize=(4,2),dpi=100)\n",
    "plt.scatter(Y_data[Y_data==0],X_data[Y_data==0][\"case_counts\"].tolist(),s=50,c='gray',label='Cluster 1')\n",
    "plt.scatter(Y_data[Y_data==1],X_data[Y_data==1][\"case_counts\"].tolist(),s=50,c='yellow',label='Cluster 2')\n",
    "plt.scatter(Y_data[Y_data==2],X_data[Y_data==2][\"case_counts\"].tolist(),s=50,c='orange',label='Cluster 3')\n",
    "plt.scatter(Y_data[Y_data==3],X_data[Y_data==3][\"case_counts\"].tolist(),s=50,c='green',label='Cluster 4')\n",
    "plt.scatter(Y_data[Y_data==4],X_data[Y_data==4][\"case_counts\"].tolist(),s=50,c='red',label='Cluster 5')\n",
    "plt.scatter(Y_data[Y_data==5],X_data[Y_data==5][\"case_counts\"].tolist(),s=50,c='blue',label='Cluster 5')\n",
    "\n",
    "plt.show()\n"
   ]
  },
  {
   "cell_type": "code",
   "execution_count": null,
   "metadata": {},
   "outputs": [],
   "source": []
  }
 ],
 "metadata": {
  "kernelspec": {
   "display_name": "Python 3",
   "language": "python",
   "name": "python3"
  },
  "language_info": {
   "codemirror_mode": {
    "name": "ipython",
    "version": 3
   },
   "file_extension": ".py",
   "mimetype": "text/x-python",
   "name": "python",
   "nbconvert_exporter": "python",
   "pygments_lexer": "ipython3",
   "version": "3.6.5"
  }
 },
 "nbformat": 4,
 "nbformat_minor": 2
}
