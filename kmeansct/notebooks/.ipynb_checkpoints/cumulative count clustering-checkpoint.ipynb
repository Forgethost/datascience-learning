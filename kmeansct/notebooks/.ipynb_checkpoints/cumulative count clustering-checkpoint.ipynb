{
 "cells": [
  {
   "cell_type": "code",
   "execution_count": 22,
   "metadata": {},
   "outputs": [],
   "source": [
    "from io import BytesIO\n",
    "from PyPDF2 import PdfFileReader\n",
    "import requests\n",
    "import re\n",
    "import pandas as pd\n",
    "from datetime import datetime as dt\n",
    "import datetime\n",
    "import os"
   ]
  },
  {
   "cell_type": "code",
   "execution_count": 23,
   "metadata": {},
   "outputs": [],
   "source": [
    "#import kmeansct\n",
    "\n",
    "# raw_data_path = os.path.join(os.path.pardir,\"data\",\"raw\",\"CaseCountData_texas.csv\")\n",
    "# raw_text_data_path = os.path.join(os.path.pardir,\"data\",\"raw\",\"cumulative_text_CT.txt\")\n",
    "raw_text_file_path = os.path.join(os.path.pardir, 'data', 'raw', 'CT_text_raw.txt')\n",
    "raw_csv_file_path = os.path.join(os.path.pardir, 'data', 'raw', 'CT_csv_raw.csv')\n",
    "zip_data_path = os.path.join(os.path.pardir,\"data\",\"raw\",\"zipMap.csv\")\n",
    "raw_data_path_daily_rate = os.path.join(os.path.pardir,\"data\",\"raw\",\"case_counts_daily_rate.csv\")\n",
    "predictions_data_band = os.path.join(os.path.pardir,\"data\",\"processed\",\"predictions\",\"predictions_bands.csv\")\n",
    "predictions_data_path_zip = os.path.join(os.path.pardir,\"data\",\"processed\",\"predictions\",\"predictions_daily_rate_zip.csv\")\n",
    "predictions_data_path = os.path.join(os.path.pardir,\"data\",\"processed\",\"predictions\",\"predictions_tx.csv\")\n",
    "predictions_data_path_cumulative = os.path.join(os.path.pardir,\"data\",\"processed\",\"predictions\",\"predictions_cumulative.csv\")\n",
    "predictions_data_path_daily_rate = os.path.join(os.path.pardir,\"data\",\"processed\",\"predictions\",\"predictions_daily_rate_1d.csv\")"
   ]
  },
  {
   "cell_type": "code",
   "execution_count": 24,
   "metadata": {},
   "outputs": [],
   "source": [
    "def get_cumulative_count_pdf_date():\n",
    "    today_weekday = dt.weekday(dt.today())\n",
    "\n",
    "    if (today_weekday > 0) and (today_weekday < 6):\n",
    "        pdf_extract_day = -1\n",
    "    elif today_weekday == 0:\n",
    "        pdf_extract_day = -3\n",
    "    elif today_weekday == 6:\n",
    "        pdf_extract_day = -2\n",
    "    else:\n",
    "        raise Exception(\"Weekday out of range :{}\".format(today_weekday))\n",
    "\n",
    "    pdf_date = dt.today() + datetime.timedelta(days=pdf_extract_day)\n",
    "    pdf_date_str = dt.strftime(pdf_date, \"%m%d%Y\")\n",
    "\n",
    "    return pdf_date_str"
   ]
  },
  {
   "cell_type": "code",
   "execution_count": 25,
   "metadata": {},
   "outputs": [
    {
     "data": {
      "text/plain": [
       "'10022020'"
      ]
     },
     "execution_count": 25,
     "metadata": {},
     "output_type": "execute_result"
    }
   ],
   "source": [
    "get_cumulative_count_pdf_date()"
   ]
  },
  {
   "cell_type": "code",
   "execution_count": 45,
   "metadata": {},
   "outputs": [],
   "source": [
    "def ct_read_raw_text():\n",
    "    csv_file = open(raw_csv_file_path, 'w')\n",
    "    csv_file.write('city,case_counts\\n')\n",
    "    with open(raw_text_file_path, 'r') as text_file:\n",
    "        i = 0\n",
    "        for eachlines in text_file:\n",
    "            if re.search('[a-zA-z]+',eachlines):\n",
    "                city = eachlines.split('\\n')[0]\n",
    "                i=0\n",
    "            elif re.search('[0-9]+', eachlines):\n",
    "                i +=1\n",
    "                if i ==1:\n",
    "                    count = eachlines.split('\\n')[0]\n",
    "                    print(city,count)\n",
    "                    csv_file.write('{0},{1}\\n'.format(city,count))\n",
    "            else:\n",
    "                pass\n",
    "    csv_file.close()\n",
    "    df = pd.read_csv(raw_csv_file_path)\n",
    "    return df"
   ]
  },
  {
   "cell_type": "code",
   "execution_count": 46,
   "metadata": {},
   "outputs": [],
   "source": [
    "def ct_cumulative_counts():\n",
    "    text_file = open(raw_text_file_path, 'w')\n",
    "    data_list=[]\n",
    "    #today = datetime.strftime(datetime.today(),\"%m%d%Y\")[1:]\n",
    "    today = get_cumulative_count_pdf_date()\n",
    "    mm = int(today[0:2])\n",
    "    if mm < 10:\n",
    "        ext_date = today[1:]\n",
    "    else:\n",
    "        ext_date = today\n",
    "    print(today)\n",
    "    #url=\"https://portal.ct.gov/-/media/Coronavirus/CTDPHCOVID19summary9112020.pdf\"\n",
    "    url=\"https://portal.ct.gov/-/media/Coronavirus/CTDPHCOVID19summary{}.pdf\".format(ext_date)\n",
    "    print(url)\n",
    "    ###########################################\n",
    "    #uncomment  below lines for today's gove data\n",
    "    pdf_data = requests.get(url)\n",
    "    pdf_content = BytesIO(pdf_data.content)\n",
    "    reader = PdfFileReader(pdf_content)\n",
    "    ###################################\n",
    "    #REmove below 2 lines for actual today's gov data\"\n",
    "    #pdffile=open(r\"c:\\users\\babub\\downloads\\CTDPHCOVID19summary9112020.pdf\",\"rb\")\n",
    "    #reader = PdfFileReader(pdffile)\n",
    "    ###############################################\n",
    "    for eachpage in range (4,5):\n",
    "        try:\n",
    "            case_count_page = reader.getPage(eachpage).extractText()\n",
    "            if len(re.findall(\"Cumulative Number of COVID\",case_count_page)) > 0:\n",
    "                case_counts = re.findall(\"Andover[\\s\\S]+Preston\",case_count_page)[0]\n",
    "                \n",
    "                text_file.write(case_counts)\n",
    "                #city_counts = re.findall(\"\\S+[\\n ]+[\\n]+\\S+[\\n ]+[\\n]+\\S+[\\n ]+[\\n]+\",case_counts)\n",
    "                city_counts = re.findall(\"\\S+?\\s*\\S*[\\n ]+[\\n]+\\S+[\\n ]+[\\n]+\\S+[\\n ]+[\\n]+\",case_counts)\n",
    "                for each_city in city_counts:\n",
    "                    try:\n",
    "                        int(re.split(\"[\\n ]+[\\n]+\",each_city)[1])\n",
    "                        data_list.append(re.split(\"[\\n ]+[\\n]+\",each_city)[0:3])\n",
    "                    except:\n",
    "                        pass\n",
    "                \n",
    "                df =pd.DataFrame(data_list,columns=[\"city\",\"case_counts\",\"probable_counts\"])\n",
    "                df.to_csv(raw_data_path,header=True,index=None)\n",
    "            text_file.close()\n",
    "            return\n",
    "        except Exception as e:\n",
    "            print(\"Exception occurred\",e)"
   ]
  },
  {
   "cell_type": "code",
   "execution_count": 30,
   "metadata": {},
   "outputs": [
    {
     "name": "stdout",
     "output_type": "stream",
     "text": [
      "10022020\n",
      "https://portal.ct.gov/-/media/Coronavirus/CTDPHCOVID19summary10022020.pdf\n"
     ]
    },
    {
     "data": {
      "text/html": [
       "<div>\n",
       "<style scoped>\n",
       "    .dataframe tbody tr th:only-of-type {\n",
       "        vertical-align: middle;\n",
       "    }\n",
       "\n",
       "    .dataframe tbody tr th {\n",
       "        vertical-align: top;\n",
       "    }\n",
       "\n",
       "    .dataframe thead th {\n",
       "        text-align: right;\n",
       "    }\n",
       "</style>\n",
       "<table border=\"1\" class=\"dataframe\">\n",
       "  <thead>\n",
       "    <tr style=\"text-align: right;\">\n",
       "      <th></th>\n",
       "      <th>city</th>\n",
       "      <th>case_counts</th>\n",
       "    </tr>\n",
       "  </thead>\n",
       "  <tbody>\n",
       "  </tbody>\n",
       "</table>\n",
       "</div>"
      ],
      "text/plain": [
       "Empty DataFrame\n",
       "Columns: [city, case_counts]\n",
       "Index: []"
      ]
     },
     "execution_count": 30,
     "metadata": {},
     "output_type": "execute_result"
    }
   ],
   "source": [
    "ct_cumulative_counts()"
   ]
  },
  {
   "cell_type": "code",
   "execution_count": 47,
   "metadata": {},
   "outputs": [
    {
     "name": "stdout",
     "output_type": "stream",
     "text": [
      "Andover 10\n",
      "Griswold 68\n",
      "Prospect 79\n",
      "Ansonia 317\n",
      "Groton 216\n",
      "Putnam 47\n",
      "Ashford 24\n",
      "Guilford 131\n",
      "Redding 77\n",
      "Avon 184\n",
      "Haddam 48\n",
      "Ridgefield 268\n",
      "Barkhamsted 31\n",
      "Hamden 1106\n",
      "Rocky Hill 462\n",
      "Beacon Falls 65\n",
      "Hampton 8\n",
      "Roxbury 15\n",
      "Berlin 209\n",
      "Hartford 3236\n",
      "Salem 23\n",
      "Bethany 49\n",
      "Hartland 7\n",
      "Salisbury 27\n",
      "Bethel 309\n",
      "Harwinton 36\n",
      "Scotland 0\n",
      "Bethlehem 13\n",
      "Hebron 44\n",
      "Seymour 239\n",
      "Bloomfield 586\n",
      "Kent 18\n",
      "Sharon 15\n",
      "Bolton 32\n",
      "Killingly 60\n",
      "Shelton 691\n",
      "Bozrah 17\n",
      "Killingworth 23\n",
      "Sherman 16\n",
      "Branford 376\n",
      "Lebanon 41\n",
      "Simsbury 152\n",
      "Bridgeport 4193\n",
      "Ledyard 65\n",
      "Somers 291\n",
      "Bridgewater 13\n",
      "Lisbon 17\n",
      "South Windsor 186\n",
      "Bristol 723\n",
      "Litchfield 60\n",
      "Southbury 217\n",
      "Brookfield 215\n",
      "Lyme 8\n",
      "Southington 403\n",
      "Brooklyn 171\n",
      "Madison 170\n",
      "Sprague 11\n",
      "Burlington 45\n",
      "Manchester 857\n",
      "Stafford 113\n",
      "Canaan 0\n",
      "Mansfield 285\n",
      "Stamford 3657\n",
      "Canterbury 23\n",
      "Marlborough 100\n",
      "Sterling 9\n",
      "Canton 100\n",
      "Meriden 1095\n",
      "Stonington 39\n",
      "Chaplin 9\n",
      "Middlebury 54\n",
      "Stratford 938\n",
      "Cheshire 262\n",
      "Middlefield 28\n",
      "Suffield 190\n",
      "Chester 54\n",
      "Middletown 692\n",
      "Thomaston 75\n",
      "Clinton 80\n",
      "Milford 729\n",
      "Thompson 50\n",
      "Colchester 106\n",
      "Monroe 150\n",
      "Tolland 59\n",
      "Colebrook 6\n",
      "Montville 328\n",
      "Torrington 622\n",
      "Columbia 30\n",
      "Morris 15\n",
      "Trumbull 573\n",
      "Cornwall 6\n",
      "Naugatuck 458\n",
      "Union 4\n",
      "Coventry 70\n",
      "New Britain 1551\n",
      "Vernon 296\n",
      "Cromwell 143\n",
      "New Canaan 215\n",
      "Voluntown 17\n",
      "Danbury 2840\n",
      "New Fairfield 144\n",
      "Wallingford 568\n",
      "Darien 262\n",
      "New Hartford 39\n",
      "Warren 5\n",
      "Deep River 18\n",
      "New Haven 2999\n",
      "Washington 29\n",
      "Derby 196\n",
      "New London 287\n",
      "Waterbury 2394\n",
      "Durham 56\n",
      "New Milford 342\n",
      "Waterford 193\n",
      "Granby 16\n",
      "Newington 450\n",
      "Watertown 177\n",
      "East Haddam 34\n",
      "Newtown 290\n",
      "West Hartford 869\n",
      "East Hampton 66\n",
      "Norfolk 16\n",
      "West Haven 1179\n",
      "East Hartford 1110\n",
      "North Branford 97\n",
      "Westbrook 39\n",
      "East Haven 441\n",
      "North Canaan 11\n",
      "Weston 88\n",
      "East Lyme 175\n",
      "North Haven 303\n",
      "Westport 364\n",
      "East Windsor 205\n",
      "North Stonington 17\n",
      "Wethersfield 308\n",
      "Eastford 14\n",
      "Norwalk 2218\n",
      "Willington 24\n",
      "Easton 42\n",
      "Norwich 408\n",
      "Wilton 237\n",
      "Ellington 84\n",
      "Old Lyme 28\n",
      "Winchester 70\n",
      "Enfield 739\n",
      "Old Saybrook 121\n",
      "Windham 461\n",
      "Essex 58\n",
      "Orange 151\n",
      "Windsor 616\n",
      "Fairfield 827\n",
      "Oxford 90\n",
      "Windsor Locks 149\n",
      "Farmington 259\n",
      "Plainfield 78\n",
      "Wolcott 137\n",
      "Franklin 19\n",
      "Plainville 198\n",
      "Woodbridge 142\n",
      "Glastonbury 342\n",
      "Plymouth 84\n",
      "Woodbury 63\n",
      "Goshen 14\n",
      "Pomfret 22\n",
      "Woodstock 37\n",
      "Granby 41\n",
      "Portland 81\n",
      "Greenwich 960\n"
     ]
    }
   ],
   "source": [
    "df = ct_read_raw_text()"
   ]
  },
  {
   "cell_type": "code",
   "execution_count": 48,
   "metadata": {},
   "outputs": [
    {
     "name": "stdout",
     "output_type": "stream",
     "text": [
      "<class 'pandas.core.frame.DataFrame'>\n",
      "RangeIndex: 168 entries, 0 to 167\n",
      "Data columns (total 2 columns):\n",
      "city           168 non-null object\n",
      "case_counts    168 non-null int64\n",
      "dtypes: int64(1), object(1)\n",
      "memory usage: 2.7+ KB\n"
     ]
    }
   ],
   "source": [
    "df.info()"
   ]
  },
  {
   "cell_type": "code",
   "execution_count": 49,
   "metadata": {},
   "outputs": [],
   "source": [
    "#df = pd.read_csv(raw_data_path)"
   ]
  },
  {
   "cell_type": "code",
   "execution_count": 50,
   "metadata": {},
   "outputs": [
    {
     "name": "stdout",
     "output_type": "stream",
     "text": [
      "<class 'pandas.core.frame.DataFrame'>\n",
      "RangeIndex: 168 entries, 0 to 167\n",
      "Data columns (total 2 columns):\n",
      "city           168 non-null object\n",
      "case_counts    168 non-null int64\n",
      "dtypes: int64(1), object(1)\n",
      "memory usage: 2.7+ KB\n"
     ]
    }
   ],
   "source": [
    "df.info()"
   ]
  },
  {
   "cell_type": "code",
   "execution_count": 51,
   "metadata": {},
   "outputs": [
    {
     "name": "stdout",
     "output_type": "stream",
     "text": [
      "   case_counts\n",
      "0           10\n",
      "1           68\n",
      "2           79\n",
      "3          317\n",
      "4          216\n"
     ]
    }
   ],
   "source": [
    "X_data = df.loc[0:,['case_counts']]\n",
    "print(X_data.head())"
   ]
  },
  {
   "cell_type": "code",
   "execution_count": 52,
   "metadata": {},
   "outputs": [],
   "source": [
    "from sklearn.cluster import KMeans\n",
    "\n",
    "#WCSS within cluster sum of squares - sum of the distances of observation from cluster centroids. We will use this to find elbow point\n",
    "wcss=[]"
   ]
  },
  {
   "cell_type": "code",
   "execution_count": 53,
   "metadata": {},
   "outputs": [
    {
     "name": "stdout",
     "output_type": "stream",
     "text": [
      "10\n",
      "[70616080.0, 15569043.142857151, 6232379.229635255, 4217531.00106383, 2527901.0099780704, 1750398.4582314154, 1136339.2408321467, 836883.9052503584, 630696.5913780663, 491675.3453965385]\n"
     ]
    }
   ],
   "source": [
    "#loop and fit KMeans multiple times to calculate WCSS for each pass of k value\n",
    "for i in range(1,11):\n",
    "    clf = KMeans(n_clusters=i, init='k-means++',max_iter=1000,n_init=10)\n",
    "    \n",
    "    clf.fit(X_data)\n",
    "    wcss.append(clf.inertia_)\n",
    "print(len(wcss))\n",
    "print(wcss)"
   ]
  },
  {
   "cell_type": "code",
   "execution_count": 54,
   "metadata": {},
   "outputs": [
    {
     "data": {
      "image/png": "[encoded data removed]",
      "text/plain": [
       "<Figure size 432x288 with 1 Axes>"
      ]
     },
     "metadata": {},
     "output_type": "display_data"
    }
   ],
   "source": [
    "#plot the elbow graph\n",
    "import matplotlib.pyplot as plt\n",
    "%matplotlib inline\n",
    "plt.plot(range(1,11),wcss)\n",
    "plt.xlabel('Number of clusters')\n",
    "plt.ylabel('WCSS')\n",
    "plt.show()"
   ]
  },
  {
   "cell_type": "code",
   "execution_count": 55,
   "metadata": {},
   "outputs": [],
   "source": [
    "#scaling\n",
    "#from sklearn.preprocessing import StandardScaler\n",
    "#scaler = StandardScaler()\n",
    "#X_data = scaler.fit_transform(X_data)"
   ]
  },
  {
   "cell_type": "code",
   "execution_count": 56,
   "metadata": {},
   "outputs": [
    {
     "name": "stderr",
     "output_type": "stream",
     "text": [
      "FutureWarning: The sklearn.metrics.classification module is  deprecated in version 0.22 and will be removed in version 0.24. The corresponding classes / functions should instead be imported from sklearn.metrics. Anything that cannot be imported from sklearn.metrics is now part of the private API. [deprecation.py:143]\n"
     ]
    },
    {
     "data": {
      "image/png": "[encoded data removed]",
      "text/plain": [
       "<Figure size 576x396 with 1 Axes>"
      ]
     },
     "metadata": {},
     "output_type": "display_data"
    },
    {
     "data": {
      "text/plain": [
       "<matplotlib.axes._subplots.AxesSubplot at 0x22933a68f60>"
      ]
     },
     "execution_count": 56,
     "metadata": {},
     "output_type": "execute_result"
    }
   ],
   "source": [
    "# Import ElbowVisualizer\n",
    "from yellowbrick.cluster import KElbowVisualizer\n",
    "model = KMeans()\n",
    "# k is range of number of clusters.\n",
    "visualizer = KElbowVisualizer(model, k=(3,12), timings=False)\n",
    "visualizer.fit(X_data)        # Fit the data to the visualizer\n",
    "visualizer.show()        # Finalize and render the figure"
   ]
  },
  {
   "cell_type": "code",
   "execution_count": 57,
   "metadata": {},
   "outputs": [
    {
     "name": "stdout",
     "output_type": "stream",
     "text": [
      "     centroids\n",
      "0    50.602041\n",
      "1  2737.400000\n",
      "2   699.384615\n",
      "3  3925.000000\n",
      "4   282.906977\n",
      "5  1134.142857\n"
     ]
    }
   ],
   "source": [
    "#as per above fig it should be k=3\n",
    "clf = KMeans(n_clusters=6, init='k-means++',max_iter=1000,n_init=10,random_state=0)\n",
    "kmeans = clf.fit(X_data)\n",
    "centers = pd.DataFrame(clf.cluster_centers_,columns=['centroids'])\n",
    "print(centers)\n",
    "Y_data = kmeans.predict(X_data)"
   ]
  },
  {
   "cell_type": "code",
   "execution_count": 58,
   "metadata": {},
   "outputs": [
    {
     "name": "stdout",
     "output_type": "stream",
     "text": [
      "       city  case_counts\n",
      "0   Andover           10\n",
      "1  Griswold           68\n",
      "2  Prospect           79\n",
      "3   Ansonia          317\n",
      "4    Groton          216\n",
      "[0 0 0 4 4 0 0 0 0 4 0 4 0 5 4 0 0 0 4 1 0 0 0 0 4 0 0 0 0 4 2 0 0 0 0 2 0\n",
      " 0 0 4 0 0 3 0 4 0 0 4 2 0 4 4 0 4 4 4 0 0 2 0 0 4 3 0 0 0 0 5 0 0 0 5 4 0\n",
      " 4 0 2 0 0 2 0 0 0 0 0 4 2 0 0 2 0 4 0 0 5 4 0 4 0 1 0 2 4 0 0 0 1 0 4 4 1\n",
      " 0 4 4 0 4 4 0 4 2 0 0 5 5 0 0 4 0 0 4 4 4 4 0 4 0 1 0 0 4 4 0 0 0 2 0 4 0\n",
      " 0 2 2 0 0 4 0 0 0 4 0 4 0 0 0 0 0 0 0 5]\n"
     ]
    }
   ],
   "source": [
    "print(df.head())\n",
    "print(clf.labels_)"
   ]
  },
  {
   "cell_type": "code",
   "execution_count": 59,
   "metadata": {},
   "outputs": [
    {
     "name": "stdout",
     "output_type": "stream",
     "text": [
      "     centroids  group_rank  group\n",
      "0    50.602041         1.0      0\n",
      "1  2737.400000         5.0      1\n",
      "2   699.384615         3.0      2\n",
      "3  3925.000000         6.0      3\n",
      "4   282.906977         2.0      4\n",
      "5  1134.142857         4.0      5\n"
     ]
    }
   ],
   "source": [
    "#rank centroids df\n",
    "centers['group_rank'] = centers['centroids'].rank(ascending=True)\n",
    "centers['group'] = pd.Series(centers.index.tolist())\n",
    "print(centers)"
   ]
  },
  {
   "cell_type": "code",
   "execution_count": 60,
   "metadata": {},
   "outputs": [
    {
     "name": "stdout",
     "output_type": "stream",
     "text": [
      "     group\n",
      "0        0\n",
      "1        0\n",
      "2        0\n",
      "3        4\n",
      "4        4\n",
      "5        0\n",
      "6        0\n",
      "7        0\n",
      "8        0\n",
      "9        4\n",
      "10       0\n",
      "11       4\n",
      "12       0\n",
      "13       5\n",
      "14       4\n",
      "15       0\n",
      "16       0\n",
      "17       0\n",
      "18       4\n",
      "19       1\n",
      "20       0\n",
      "21       0\n",
      "22       0\n",
      "23       0\n",
      "24       4\n",
      "25       0\n",
      "26       0\n",
      "27       0\n",
      "28       0\n",
      "29       4\n",
      "..     ...\n",
      "138      0\n",
      "139      4\n",
      "140      4\n",
      "141      0\n",
      "142      0\n",
      "143      0\n",
      "144      2\n",
      "145      0\n",
      "146      4\n",
      "147      0\n",
      "148      0\n",
      "149      2\n",
      "150      2\n",
      "151      0\n",
      "152      0\n",
      "153      4\n",
      "154      0\n",
      "155      0\n",
      "156      0\n",
      "157      4\n",
      "158      0\n",
      "159      4\n",
      "160      0\n",
      "161      0\n",
      "162      0\n",
      "163      0\n",
      "164      0\n",
      "165      0\n",
      "166      0\n",
      "167      5\n",
      "\n",
      "[168 rows x 1 columns]\n"
     ]
    }
   ],
   "source": [
    "#predictions_data_path\n",
    "Y_df = pd.DataFrame(Y_data)\n",
    "Y_df.columns=[\"group\"]\n",
    "print(Y_df)"
   ]
  },
  {
   "cell_type": "code",
   "execution_count": 61,
   "metadata": {},
   "outputs": [],
   "source": [
    "predicted_df = pd.concat([df.iloc[0:,0:3],Y_df],axis=1)\n",
    "predicted_df = predicted_df.merge(centers,how='inner',left_on='group',right_on='group')\n",
    "predicted_df.insert(0,'state','CT')"
   ]
  },
  {
   "cell_type": "code",
   "execution_count": 62,
   "metadata": {},
   "outputs": [
    {
     "data": {
      "text/html": [
       "<div>\n",
       "<style scoped>\n",
       "    .dataframe tbody tr th:only-of-type {\n",
       "        vertical-align: middle;\n",
       "    }\n",
       "\n",
       "    .dataframe tbody tr th {\n",
       "        vertical-align: top;\n",
       "    }\n",
       "\n",
       "    .dataframe thead th {\n",
       "        text-align: right;\n",
       "    }\n",
       "</style>\n",
       "<table border=\"1\" class=\"dataframe\">\n",
       "  <thead>\n",
       "    <tr style=\"text-align: right;\">\n",
       "      <th></th>\n",
       "      <th>state</th>\n",
       "      <th>city</th>\n",
       "      <th>case_counts</th>\n",
       "      <th>group</th>\n",
       "      <th>centroids</th>\n",
       "      <th>group_rank</th>\n",
       "    </tr>\n",
       "  </thead>\n",
       "  <tbody>\n",
       "    <tr>\n",
       "      <th>0</th>\n",
       "      <td>CT</td>\n",
       "      <td>Andover</td>\n",
       "      <td>10</td>\n",
       "      <td>0</td>\n",
       "      <td>50.602041</td>\n",
       "      <td>1.0</td>\n",
       "    </tr>\n",
       "    <tr>\n",
       "      <th>1</th>\n",
       "      <td>CT</td>\n",
       "      <td>Griswold</td>\n",
       "      <td>68</td>\n",
       "      <td>0</td>\n",
       "      <td>50.602041</td>\n",
       "      <td>1.0</td>\n",
       "    </tr>\n",
       "    <tr>\n",
       "      <th>2</th>\n",
       "      <td>CT</td>\n",
       "      <td>Prospect</td>\n",
       "      <td>79</td>\n",
       "      <td>0</td>\n",
       "      <td>50.602041</td>\n",
       "      <td>1.0</td>\n",
       "    </tr>\n",
       "    <tr>\n",
       "      <th>3</th>\n",
       "      <td>CT</td>\n",
       "      <td>Putnam</td>\n",
       "      <td>47</td>\n",
       "      <td>0</td>\n",
       "      <td>50.602041</td>\n",
       "      <td>1.0</td>\n",
       "    </tr>\n",
       "    <tr>\n",
       "      <th>4</th>\n",
       "      <td>CT</td>\n",
       "      <td>Ashford</td>\n",
       "      <td>24</td>\n",
       "      <td>0</td>\n",
       "      <td>50.602041</td>\n",
       "      <td>1.0</td>\n",
       "    </tr>\n",
       "    <tr>\n",
       "      <th>5</th>\n",
       "      <td>CT</td>\n",
       "      <td>Guilford</td>\n",
       "      <td>131</td>\n",
       "      <td>0</td>\n",
       "      <td>50.602041</td>\n",
       "      <td>1.0</td>\n",
       "    </tr>\n",
       "    <tr>\n",
       "      <th>6</th>\n",
       "      <td>CT</td>\n",
       "      <td>Redding</td>\n",
       "      <td>77</td>\n",
       "      <td>0</td>\n",
       "      <td>50.602041</td>\n",
       "      <td>1.0</td>\n",
       "    </tr>\n",
       "    <tr>\n",
       "      <th>7</th>\n",
       "      <td>CT</td>\n",
       "      <td>Haddam</td>\n",
       "      <td>48</td>\n",
       "      <td>0</td>\n",
       "      <td>50.602041</td>\n",
       "      <td>1.0</td>\n",
       "    </tr>\n",
       "    <tr>\n",
       "      <th>8</th>\n",
       "      <td>CT</td>\n",
       "      <td>Barkhamsted</td>\n",
       "      <td>31</td>\n",
       "      <td>0</td>\n",
       "      <td>50.602041</td>\n",
       "      <td>1.0</td>\n",
       "    </tr>\n",
       "    <tr>\n",
       "      <th>9</th>\n",
       "      <td>CT</td>\n",
       "      <td>Beacon Falls</td>\n",
       "      <td>65</td>\n",
       "      <td>0</td>\n",
       "      <td>50.602041</td>\n",
       "      <td>1.0</td>\n",
       "    </tr>\n",
       "    <tr>\n",
       "      <th>10</th>\n",
       "      <td>CT</td>\n",
       "      <td>Hampton</td>\n",
       "      <td>8</td>\n",
       "      <td>0</td>\n",
       "      <td>50.602041</td>\n",
       "      <td>1.0</td>\n",
       "    </tr>\n",
       "    <tr>\n",
       "      <th>11</th>\n",
       "      <td>CT</td>\n",
       "      <td>Roxbury</td>\n",
       "      <td>15</td>\n",
       "      <td>0</td>\n",
       "      <td>50.602041</td>\n",
       "      <td>1.0</td>\n",
       "    </tr>\n",
       "    <tr>\n",
       "      <th>12</th>\n",
       "      <td>CT</td>\n",
       "      <td>Salem</td>\n",
       "      <td>23</td>\n",
       "      <td>0</td>\n",
       "      <td>50.602041</td>\n",
       "      <td>1.0</td>\n",
       "    </tr>\n",
       "    <tr>\n",
       "      <th>13</th>\n",
       "      <td>CT</td>\n",
       "      <td>Bethany</td>\n",
       "      <td>49</td>\n",
       "      <td>0</td>\n",
       "      <td>50.602041</td>\n",
       "      <td>1.0</td>\n",
       "    </tr>\n",
       "    <tr>\n",
       "      <th>14</th>\n",
       "      <td>CT</td>\n",
       "      <td>Hartland</td>\n",
       "      <td>7</td>\n",
       "      <td>0</td>\n",
       "      <td>50.602041</td>\n",
       "      <td>1.0</td>\n",
       "    </tr>\n",
       "    <tr>\n",
       "      <th>15</th>\n",
       "      <td>CT</td>\n",
       "      <td>Salisbury</td>\n",
       "      <td>27</td>\n",
       "      <td>0</td>\n",
       "      <td>50.602041</td>\n",
       "      <td>1.0</td>\n",
       "    </tr>\n",
       "    <tr>\n",
       "      <th>16</th>\n",
       "      <td>CT</td>\n",
       "      <td>Harwinton</td>\n",
       "      <td>36</td>\n",
       "      <td>0</td>\n",
       "      <td>50.602041</td>\n",
       "      <td>1.0</td>\n",
       "    </tr>\n",
       "    <tr>\n",
       "      <th>17</th>\n",
       "      <td>CT</td>\n",
       "      <td>Scotland</td>\n",
       "      <td>0</td>\n",
       "      <td>0</td>\n",
       "      <td>50.602041</td>\n",
       "      <td>1.0</td>\n",
       "    </tr>\n",
       "    <tr>\n",
       "      <th>18</th>\n",
       "      <td>CT</td>\n",
       "      <td>Bethlehem</td>\n",
       "      <td>13</td>\n",
       "      <td>0</td>\n",
       "      <td>50.602041</td>\n",
       "      <td>1.0</td>\n",
       "    </tr>\n",
       "    <tr>\n",
       "      <th>19</th>\n",
       "      <td>CT</td>\n",
       "      <td>Hebron</td>\n",
       "      <td>44</td>\n",
       "      <td>0</td>\n",
       "      <td>50.602041</td>\n",
       "      <td>1.0</td>\n",
       "    </tr>\n",
       "  </tbody>\n",
       "</table>\n",
       "</div>"
      ],
      "text/plain": [
       "   state          city  case_counts  group  centroids  group_rank\n",
       "0     CT       Andover           10      0  50.602041         1.0\n",
       "1     CT      Griswold           68      0  50.602041         1.0\n",
       "2     CT      Prospect           79      0  50.602041         1.0\n",
       "3     CT        Putnam           47      0  50.602041         1.0\n",
       "4     CT       Ashford           24      0  50.602041         1.0\n",
       "5     CT      Guilford          131      0  50.602041         1.0\n",
       "6     CT       Redding           77      0  50.602041         1.0\n",
       "7     CT        Haddam           48      0  50.602041         1.0\n",
       "8     CT   Barkhamsted           31      0  50.602041         1.0\n",
       "9     CT  Beacon Falls           65      0  50.602041         1.0\n",
       "10    CT       Hampton            8      0  50.602041         1.0\n",
       "11    CT       Roxbury           15      0  50.602041         1.0\n",
       "12    CT         Salem           23      0  50.602041         1.0\n",
       "13    CT       Bethany           49      0  50.602041         1.0\n",
       "14    CT      Hartland            7      0  50.602041         1.0\n",
       "15    CT     Salisbury           27      0  50.602041         1.0\n",
       "16    CT     Harwinton           36      0  50.602041         1.0\n",
       "17    CT      Scotland            0      0  50.602041         1.0\n",
       "18    CT     Bethlehem           13      0  50.602041         1.0\n",
       "19    CT        Hebron           44      0  50.602041         1.0"
      ]
     },
     "execution_count": 62,
     "metadata": {},
     "output_type": "execute_result"
    }
   ],
   "source": [
    "predicted_df.head(20)"
   ]
  },
  {
   "cell_type": "code",
   "execution_count": 63,
   "metadata": {},
   "outputs": [],
   "source": [
    "predicted_df.to_csv(predictions_data_path_cumulative,index=None)"
   ]
  },
  {
   "cell_type": "code",
   "execution_count": 64,
   "metadata": {},
   "outputs": [
    {
     "data": {
      "image/png": "[encoded data removed]",
      "text/plain": [
       "<Figure size 576x396 with 1 Axes>"
      ]
     },
     "metadata": {},
     "output_type": "display_data"
    }
   ],
   "source": [
    "#plt.figure(figsize=(4,2),dpi=100)\n",
    "plt.scatter(Y_data[Y_data==0],X_data[Y_data==0][\"case_counts\"].tolist(),s=50,c='gray',label='Cluster 1')\n",
    "plt.scatter(Y_data[Y_data==1],X_data[Y_data==1][\"case_counts\"].tolist(),s=50,c='yellow',label='Cluster 2')\n",
    "plt.scatter(Y_data[Y_data==2],X_data[Y_data==2][\"case_counts\"].tolist(),s=50,c='orange',label='Cluster 3')\n",
    "plt.scatter(Y_data[Y_data==3],X_data[Y_data==3][\"case_counts\"].tolist(),s=50,c='green',label='Cluster 4')\n",
    "plt.scatter(Y_data[Y_data==4],X_data[Y_data==4][\"case_counts\"].tolist(),s=50,c='red',label='Cluster 5')\n",
    "plt.scatter(Y_data[Y_data==5],X_data[Y_data==5][\"case_counts\"].tolist(),s=50,c='blue',label='Cluster 5')\n",
    "\n",
    "plt.show()\n"
   ]
  },
  {
   "cell_type": "code",
   "execution_count": null,
   "metadata": {},
   "outputs": [],
   "source": []
  }
 ],
 "metadata": {
  "kernelspec": {
   "display_name": "Python 3",
   "language": "python",
   "name": "python3"
  },
  "language_info": {
   "codemirror_mode": {
    "name": "ipython",
    "version": 3
   },
   "file_extension": ".py",
   "mimetype": "text/x-python",
   "name": "python",
   "nbconvert_exporter": "python",
   "pygments_lexer": "ipython3",
   "version": "3.6.5"
  }
 },
 "nbformat": 4,
 "nbformat_minor": 2
}
